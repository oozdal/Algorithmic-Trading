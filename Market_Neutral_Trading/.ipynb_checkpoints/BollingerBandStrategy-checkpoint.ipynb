{
 "cells": [
  {
   "cell_type": "markdown",
   "metadata": {},
   "source": [
    "# Bollinger bands trading strategy implementation"
   ]
  },
  {
   "cell_type": "code",
   "execution_count": 1,
   "metadata": {},
   "outputs": [],
   "source": [
    "import backtrader as bt\n",
    "from datetime import datetime"
   ]
  },
  {
   "cell_type": "code",
   "execution_count": 15,
   "metadata": {},
   "outputs": [],
   "source": [
    "class  BollingerBandStrategy(bt.Strategy):\n",
    "    \n",
    "    params = (\n",
    "        ('period', 20),\n",
    "        ('std', 2),\n",
    "        ('size', 20)\n",
    "    )\n",
    "    \n",
    "    def __init__(self):\n",
    "        self.bollinger =  bt.indicators.BollingerBands(period=self.p.period,\n",
    "                                                       devfactor=self.p.std)\n",
    "            \n",
    "    def next(self):\n",
    "        \n",
    "        # if we do not have any open positions\n",
    "        if not self.position:\n",
    "            # open short position if needed\n",
    "            if self.data.close[0] > self.bollinger.lines.top:\n",
    "                self.sell(size=self.p.size)\n",
    "            # open long positions if needed\n",
    "            if self.data.close[0] < self.bollinger.lines.bot:\n",
    "                self.buy(size=self.p.size)\n",
    "        else:\n",
    "            # we have opened long positions we have to check\n",
    "            # whether to close the long position\n",
    "            if self.position.size > 0:\n",
    "                # close it when the prices crosses the middle line\n",
    "                self.sell(exectype=bt.Order.Limit, price=self.bollinger.lines.mid[0],\n",
    "                                        size=self.p.size)\n",
    "            # close the short position (with the help of buy)    \n",
    "            else:\n",
    "                # we have an open short position - close it as well\n",
    "                self.buy(exectype=bt.Order.Limit, price=self.bollinger.lines.mid[0],\n",
    "                                        size=self.p.size)"
   ]
  },
  {
   "cell_type": "code",
   "execution_count": 27,
   "metadata": {},
   "outputs": [
    {
     "name": "stdout",
     "output_type": "stream",
     "text": [
      "Initial Capital: $10000.00\n",
      "Sharpe: 0.827\n",
      "Annual Return: 8.48%\n",
      "Max Drawdown: 42.78%\n",
      "Capital: $22542.87\n"
     ]
    }
   ],
   "source": [
    "if __name__ == \"__main__\":\n",
    "    \n",
    "    cerebro = bt.Cerebro()\n",
    "    cerebro.addstrategy(BollingerBandStrategy)\n",
    "    \n",
    "    data =  bt.feeds.YahooFinanceData(\n",
    "        dataname='IBM',\n",
    "        fromdate=datetime(2011, 1, 1),\n",
    "        todate=datetime(2021, 1, 1)\n",
    "    )\n",
    "    \n",
    "    cerebro.adddata(data)\n",
    "    \n",
    "    cerebro.addobserver(bt.observers.Value)\n",
    "    cerebro.addanalyzer(bt.analyzers.SharpeRatio, riskfreerate=0.0)\n",
    "    cerebro.addanalyzer(bt.analyzers.Returns)\n",
    "    cerebro.addanalyzer(bt.analyzers.DrawDown)\n",
    "\n",
    "    print('Initial Capital: $%.2f' % cerebro.broker.getvalue())     \n",
    "    \n",
    "    results =  cerebro.run()\n",
    "    \n",
    "    print(f\"Sharpe: {results[0].analyzers.sharperatio.get_analysis()['sharperatio']:.3f}\")\n",
    "    print(f\"Annual Return: {results[0].analyzers.returns.get_analysis()['rnorm100']:.2f}%\")\n",
    "    print(f\"Max Drawdown: {results[0].analyzers.drawdown.get_analysis()['max']['drawdown']:.2f}%\") \n",
    "    print('Capital: $%.2f' % cerebro.broker.getvalue()) "
   ]
  },
  {
   "cell_type": "code",
   "execution_count": null,
   "metadata": {},
   "outputs": [],
   "source": []
  }
 ],
 "metadata": {
  "kernelspec": {
   "display_name": "Python 3",
   "language": "python",
   "name": "python3"
  },
  "language_info": {
   "codemirror_mode": {
    "name": "ipython",
    "version": 3
   },
   "file_extension": ".py",
   "mimetype": "text/x-python",
   "name": "python",
   "nbconvert_exporter": "python",
   "pygments_lexer": "ipython3",
   "version": "3.8.3"
  }
 },
 "nbformat": 4,
 "nbformat_minor": 4
}

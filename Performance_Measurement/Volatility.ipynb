{
 "cells": [
  {
   "cell_type": "code",
   "execution_count": 1,
   "metadata": {},
   "outputs": [],
   "source": [
    "# Measuring the performance of a buy and hold strategy - Volatility\n",
    "\n",
    "# Import necesary libraries\n",
    "import yfinance as yf\n",
    "import numpy as np\n",
    "import datetime as dt"
   ]
  },
  {
   "cell_type": "code",
   "execution_count": 17,
   "metadata": {},
   "outputs": [
    {
     "name": "stdout",
     "output_type": "stream",
     "text": [
      "[*********************100%***********************]  1 of 1 completed\n"
     ]
    }
   ],
   "source": [
    "# Download historical data for required stocks\n",
    "ticker = \"AMZN\"\n",
    "SnP = yf.download(ticker,dt.date.today()-dt.timedelta(1825),dt.datetime.today())"
   ]
  },
  {
   "cell_type": "code",
   "execution_count": 18,
   "metadata": {},
   "outputs": [],
   "source": [
    "def volatility(DF):\n",
    "    \"function to calculate annualized volatility of a trading strategy\"\n",
    "    df = DF.copy()\n",
    "    df[\"daily_ret\"] = df[\"Adj Close\"].pct_change()\n",
    "    vol = df[\"daily_ret\"].std() * np.sqrt(252)\n",
    "    return vol"
   ]
  },
  {
   "cell_type": "code",
   "execution_count": 19,
   "metadata": {},
   "outputs": [
    {
     "data": {
      "text/html": [
       "<div>\n",
       "<style scoped>\n",
       "    .dataframe tbody tr th:only-of-type {\n",
       "        vertical-align: middle;\n",
       "    }\n",
       "\n",
       "    .dataframe tbody tr th {\n",
       "        vertical-align: top;\n",
       "    }\n",
       "\n",
       "    .dataframe thead th {\n",
       "        text-align: right;\n",
       "    }\n",
       "</style>\n",
       "<table border=\"1\" class=\"dataframe\">\n",
       "  <thead>\n",
       "    <tr style=\"text-align: right;\">\n",
       "      <th></th>\n",
       "      <th>Open</th>\n",
       "      <th>High</th>\n",
       "      <th>Low</th>\n",
       "      <th>Close</th>\n",
       "      <th>Adj Close</th>\n",
       "      <th>Volume</th>\n",
       "    </tr>\n",
       "    <tr>\n",
       "      <th>Date</th>\n",
       "      <th></th>\n",
       "      <th></th>\n",
       "      <th></th>\n",
       "      <th></th>\n",
       "      <th></th>\n",
       "      <th></th>\n",
       "    </tr>\n",
       "  </thead>\n",
       "  <tbody>\n",
       "    <tr>\n",
       "      <th>2016-05-05</th>\n",
       "      <td>673.309998</td>\n",
       "      <td>676.489990</td>\n",
       "      <td>656.000000</td>\n",
       "      <td>659.090027</td>\n",
       "      <td>659.090027</td>\n",
       "      <td>4884100</td>\n",
       "    </tr>\n",
       "    <tr>\n",
       "      <th>2016-05-06</th>\n",
       "      <td>656.049988</td>\n",
       "      <td>676.950012</td>\n",
       "      <td>656.010010</td>\n",
       "      <td>673.950012</td>\n",
       "      <td>673.950012</td>\n",
       "      <td>4365300</td>\n",
       "    </tr>\n",
       "    <tr>\n",
       "      <th>2016-05-09</th>\n",
       "      <td>673.950012</td>\n",
       "      <td>686.979980</td>\n",
       "      <td>671.409973</td>\n",
       "      <td>679.750000</td>\n",
       "      <td>679.750000</td>\n",
       "      <td>3982200</td>\n",
       "    </tr>\n",
       "    <tr>\n",
       "      <th>2016-05-10</th>\n",
       "      <td>694.000000</td>\n",
       "      <td>704.549988</td>\n",
       "      <td>693.500000</td>\n",
       "      <td>703.070007</td>\n",
       "      <td>703.070007</td>\n",
       "      <td>6105600</td>\n",
       "    </tr>\n",
       "    <tr>\n",
       "      <th>2016-05-11</th>\n",
       "      <td>705.789978</td>\n",
       "      <td>719.000000</td>\n",
       "      <td>701.650024</td>\n",
       "      <td>713.229980</td>\n",
       "      <td>713.229980</td>\n",
       "      <td>7338200</td>\n",
       "    </tr>\n",
       "    <tr>\n",
       "      <th>...</th>\n",
       "      <td>...</td>\n",
       "      <td>...</td>\n",
       "      <td>...</td>\n",
       "      <td>...</td>\n",
       "      <td>...</td>\n",
       "      <td>...</td>\n",
       "    </tr>\n",
       "    <tr>\n",
       "      <th>2021-04-28</th>\n",
       "      <td>3434.800049</td>\n",
       "      <td>3489.879883</td>\n",
       "      <td>3425.000000</td>\n",
       "      <td>3458.500000</td>\n",
       "      <td>3458.500000</td>\n",
       "      <td>4631900</td>\n",
       "    </tr>\n",
       "    <tr>\n",
       "      <th>2021-04-29</th>\n",
       "      <td>3505.100098</td>\n",
       "      <td>3514.449951</td>\n",
       "      <td>3435.000000</td>\n",
       "      <td>3471.310059</td>\n",
       "      <td>3471.310059</td>\n",
       "      <td>7682400</td>\n",
       "    </tr>\n",
       "    <tr>\n",
       "      <th>2021-04-30</th>\n",
       "      <td>3525.120117</td>\n",
       "      <td>3554.000000</td>\n",
       "      <td>3462.500000</td>\n",
       "      <td>3467.419922</td>\n",
       "      <td>3467.419922</td>\n",
       "      <td>7001800</td>\n",
       "    </tr>\n",
       "    <tr>\n",
       "      <th>2021-05-03</th>\n",
       "      <td>3484.729980</td>\n",
       "      <td>3486.649902</td>\n",
       "      <td>3372.699951</td>\n",
       "      <td>3386.489990</td>\n",
       "      <td>3386.489990</td>\n",
       "      <td>5868600</td>\n",
       "    </tr>\n",
       "    <tr>\n",
       "      <th>2021-05-04</th>\n",
       "      <td>3356.189941</td>\n",
       "      <td>3367.975098</td>\n",
       "      <td>3272.129883</td>\n",
       "      <td>3311.870117</td>\n",
       "      <td>3311.870117</td>\n",
       "      <td>5318791</td>\n",
       "    </tr>\n",
       "  </tbody>\n",
       "</table>\n",
       "<p>1258 rows × 6 columns</p>\n",
       "</div>"
      ],
      "text/plain": [
       "                   Open         High          Low        Close    Adj Close  \\\n",
       "Date                                                                          \n",
       "2016-05-05   673.309998   676.489990   656.000000   659.090027   659.090027   \n",
       "2016-05-06   656.049988   676.950012   656.010010   673.950012   673.950012   \n",
       "2016-05-09   673.950012   686.979980   671.409973   679.750000   679.750000   \n",
       "2016-05-10   694.000000   704.549988   693.500000   703.070007   703.070007   \n",
       "2016-05-11   705.789978   719.000000   701.650024   713.229980   713.229980   \n",
       "...                 ...          ...          ...          ...          ...   \n",
       "2021-04-28  3434.800049  3489.879883  3425.000000  3458.500000  3458.500000   \n",
       "2021-04-29  3505.100098  3514.449951  3435.000000  3471.310059  3471.310059   \n",
       "2021-04-30  3525.120117  3554.000000  3462.500000  3467.419922  3467.419922   \n",
       "2021-05-03  3484.729980  3486.649902  3372.699951  3386.489990  3386.489990   \n",
       "2021-05-04  3356.189941  3367.975098  3272.129883  3311.870117  3311.870117   \n",
       "\n",
       "             Volume  \n",
       "Date                 \n",
       "2016-05-05  4884100  \n",
       "2016-05-06  4365300  \n",
       "2016-05-09  3982200  \n",
       "2016-05-10  6105600  \n",
       "2016-05-11  7338200  \n",
       "...             ...  \n",
       "2021-04-28  4631900  \n",
       "2021-04-29  7682400  \n",
       "2021-04-30  7001800  \n",
       "2021-05-03  5868600  \n",
       "2021-05-04  5318791  \n",
       "\n",
       "[1258 rows x 6 columns]"
      ]
     },
     "execution_count": 19,
     "metadata": {},
     "output_type": "execute_result"
    }
   ],
   "source": [
    "DF = SnP.copy()\n",
    "DF"
   ]
  },
  {
   "cell_type": "code",
   "execution_count": 20,
   "metadata": {},
   "outputs": [
    {
     "data": {
      "text/plain": [
       "0.291098454779917"
      ]
     },
     "execution_count": 20,
     "metadata": {},
     "output_type": "execute_result"
    }
   ],
   "source": [
    "volatility(DF)"
   ]
  },
  {
   "cell_type": "code",
   "execution_count": 21,
   "metadata": {},
   "outputs": [
    {
     "name": "stdout",
     "output_type": "stream",
     "text": [
      "                   Open         High          Low        Close    Adj Close  \\\n",
      "Date                                                                          \n",
      "2021-04-14  3404.040039  3404.129883  3326.000000  3333.000000  3333.000000   \n",
      "2021-04-15  3371.000000  3397.000000  3352.000000  3379.090088  3379.090088   \n",
      "2021-04-16  3380.000000  3406.800049  3355.590088  3399.439941  3399.439941   \n",
      "2021-04-19  3390.330078  3435.929932  3360.159912  3372.010010  3372.010010   \n",
      "2021-04-20  3373.600098  3382.989990  3316.000000  3334.689941  3334.689941   \n",
      "2021-04-21  3316.000000  3362.860107  3303.810059  3362.020020  3362.020020   \n",
      "2021-04-22  3371.679932  3372.870117  3301.449951  3309.040039  3309.040039   \n",
      "2021-04-23  3319.100098  3375.000000  3308.500000  3340.879883  3340.879883   \n",
      "2021-04-26  3348.000000  3428.449951  3330.939941  3409.000000  3409.000000   \n",
      "2021-04-27  3443.469971  3460.000000  3398.010010  3417.429932  3417.429932   \n",
      "2021-04-28  3434.800049  3489.879883  3425.000000  3458.500000  3458.500000   \n",
      "2021-04-29  3505.100098  3514.449951  3435.000000  3471.310059  3471.310059   \n",
      "2021-04-30  3525.120117  3554.000000  3462.500000  3467.419922  3467.419922   \n",
      "2021-05-03  3484.729980  3486.649902  3372.699951  3386.489990  3386.489990   \n",
      "2021-05-04  3356.189941  3367.975098  3272.129883  3311.870117  3311.870117   \n",
      "\n",
      "             Volume   Log_Ret  Volatility  \n",
      "Date                                       \n",
      "2021-04-14  3145200 -0.019903    0.328478  \n",
      "2021-04-15  3233600  0.013734    0.328580  \n",
      "2021-04-16  3183300  0.006004    0.326009  \n",
      "2021-04-19  2725400 -0.008102    0.325789  \n",
      "2021-04-20  2623000 -0.011129    0.325965  \n",
      "2021-04-21  2211200  0.008162    0.324727  \n",
      "2021-04-22  2580600 -0.015884    0.324899  \n",
      "2021-04-23  3192800  0.009576    0.324711  \n",
      "2021-04-26  4880700  0.020185    0.325244  \n",
      "2021-04-27  3827100  0.002470    0.324865  \n",
      "2021-04-28  4631900  0.011946    0.323826  \n",
      "2021-04-29  7682400  0.003697    0.322978  \n",
      "2021-04-30  7001800 -0.001121    0.320444  \n",
      "2021-05-03  5868600 -0.023617    0.311151  \n",
      "2021-05-04  5318791 -0.022281    0.311848  \n"
     ]
    },
    {
     "data": {
      "text/plain": [
       "array([<AxesSubplot:xlabel='Date'>, <AxesSubplot:xlabel='Date'>],\n",
       "      dtype=object)"
      ]
     },
     "execution_count": 21,
     "metadata": {},
     "output_type": "execute_result"
    },
    {
     "data": {
      "image/png": "[encoded data removed]",
      "text/plain": [
       "<Figure size 864x720 with 2 Axes>"
      ]
     },
     "metadata": {
      "needs_background": "light"
     },
     "output_type": "display_data"
    }
   ],
   "source": [
    "# Compute the logarithmic returns using the Closing price \n",
    "DF['Log_Ret'] = np.log(DF[\"Adj Close\"] / DF[\"Adj Close\"].shift(1))   # daily_return\n",
    "\n",
    "# Compute Volatility using the pandas rolling standard deviation function\n",
    "DF['Volatility'] = DF['Log_Ret'].rolling(window=252).std() * np.sqrt(252)\n",
    "print(DF.tail(15))\n",
    "\n",
    "# Plot the GOOGLE Price series and the Volatility\n",
    "DF[['Adj Close', 'Volatility']].plot(subplots=True, color='blue',figsize=(12, 10))"
   ]
  },
  {
   "cell_type": "code",
   "execution_count": null,
   "metadata": {},
   "outputs": [],
   "source": []
  },
  {
   "cell_type": "code",
   "execution_count": null,
   "metadata": {},
   "outputs": [],
   "source": []
  }
 ],
 "metadata": {
  "kernelspec": {
   "display_name": "Python 3",
   "language": "python",
   "name": "python3"
  },
  "language_info": {
   "codemirror_mode": {
    "name": "ipython",
    "version": 3
   },
   "file_extension": ".py",
   "mimetype": "text/x-python",
   "name": "python",
   "nbconvert_exporter": "python",
   "pygments_lexer": "ipython3",
   "version": "3.8.3"
  }
 },
 "nbformat": 4,
 "nbformat_minor": 4
}

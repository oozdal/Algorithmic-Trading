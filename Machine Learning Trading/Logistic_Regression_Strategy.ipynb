{
 "cells": [
  {
   "cell_type": "markdown",
   "metadata": {},
   "source": [
    "# Logistic regression strategy implementation"
   ]
  },
  {
   "cell_type": "code",
   "execution_count": 3,
   "metadata": {},
   "outputs": [],
   "source": [
    "import numpy as np\n",
    "from sklearn.linear_model import LogisticRegression\n",
    "from sklearn.metrics import confusion_matrix\n",
    "from sklearn.model_selection import train_test_split\n",
    "from sklearn.metrics import accuracy_score\n",
    "import datetime\n",
    "import pandas as pd\n",
    "import yfinance as yf"
   ]
  },
  {
   "cell_type": "code",
   "execution_count": 4,
   "metadata": {},
   "outputs": [],
   "source": [
    "def download_data(stock, start, end):\n",
    "    data = {}\n",
    "    ticker = yf.download(stock, start, end)\n",
    "    data['Close'] = ticker['Adj Close']\n",
    "    return pd.DataFrame(data)"
   ]
  },
  {
   "cell_type": "code",
   "execution_count": 5,
   "metadata": {},
   "outputs": [],
   "source": [
    "def construct_features(data, lags=2):\n",
    "    \n",
    "    # calculate the lagged adjusted closing prices (name = Close)\n",
    "    for i in range(0, lags):\n",
    "        data['Lag%s' % str(i+1)] = data['Close'].shift(i+1)\n",
    "    \n",
    "    print(data)"
   ]
  },
  {
   "cell_type": "code",
   "execution_count": null,
   "metadata": {},
   "outputs": [],
   "source": [
    "if __name__ ='__main__':\n",
    "    start_date = datetime.datetime(2017, 1, 1)\n",
    "    end_date   = datetime.datetime(2018, 1, 1)\n",
    "    \n",
    "    stock_data = download_data('IBM', start_date, end_date)\n",
    "    construct_fea"
   ]
  }
 ],
 "metadata": {
  "kernelspec": {
   "display_name": "Python 3",
   "language": "python",
   "name": "python3"
  },
  "language_info": {
   "codemirror_mode": {
    "name": "ipython",
    "version": 3
   },
   "file_extension": ".py",
   "mimetype": "text/x-python",
   "name": "python",
   "nbconvert_exporter": "python",
   "pygments_lexer": "ipython3",
   "version": "3.8.3"
  }
 },
 "nbformat": 4,
 "nbformat_minor": 4
}

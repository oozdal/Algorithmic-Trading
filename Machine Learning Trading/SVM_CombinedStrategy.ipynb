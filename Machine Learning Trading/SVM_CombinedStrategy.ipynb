{
 "cells": [
  {
   "cell_type": "markdown",
   "metadata": {},
   "source": [
    "# Support Vector Machines with SMA and RSI trading strategy"
   ]
  },
  {
   "cell_type": "code",
   "execution_count": 83,
   "metadata": {},
   "outputs": [],
   "source": [
    "import datetime\n",
    "import pandas as pd\n",
    "import yfinance as yf\n",
    "import numpy as np\n",
    "from sklearn.svm import SVC\n",
    "from sklearn.metrics import confusion_matrix\n",
    "from sklearn.model_selection import train_test_split\n",
    "from sklearn.metrics import accuracy_score\n",
    "from sklearn.model_selection import ParameterGrid\n",
    "import matplotlib.pyplot as plt"
   ]
  },
  {
   "cell_type": "code",
   "execution_count": 84,
   "metadata": {},
   "outputs": [],
   "source": [
    "def fetch_data(symbol, start, end):\n",
    "    ticker = yf.download(symbol, start, end)\n",
    "    return pd.DataFrame(ticker)"
   ]
  },
  {
   "cell_type": "code",
   "execution_count": 92,
   "metadata": {},
   "outputs": [],
   "source": [
    "def calculate_rsi(data, period=14):\n",
    "    #data['move'] = data['Close'] - data['Close'].shift(1)  # Defining data['move'] this way gives RSI values larger than 100 !!!\n",
    "    data['move'] = data['Close'] - data['Open']\n",
    "    data['up'] = np.where(data['move'] > 0, data['move'], 0)\n",
    "    data['down'] = np.where(data['move'] < 0, data['move'], 0)\n",
    "    data['average_gain'] = data['up'].rolling(period).mean()\n",
    "    data['average_loss'] = data['down'].rolling(period).mean()\n",
    "    data['relative_strength'] =  data['average_gain'] / data['average_loss']\n",
    "    return 100.0 - (100.0 / (1.0 + data['relative_strength']))"
   ]
  },
  {
   "cell_type": "code",
   "execution_count": 93,
   "metadata": {},
   "outputs": [],
   "source": [
    "def construct_signals(data, ma_period=60, rsi_period=14):\n",
    "    data['SMA'] = data['Close'].rolling(window=ma_period).mean()\n",
    "    # these are the 2 features\n",
    "    data['trend'] = (data['Open'] - data['SMA']) * 100\n",
    "    data['RSI'] = calculate_rsi(data, rsi_period) /100 # Divided by 100 to normalize\n",
    "    # we need the target variables (labels)\n",
    "    data['direction'] = np.where(data['Close'] - data['Open'] > 0, 1, -1)"
   ]
  },
  {
   "cell_type": "code",
   "execution_count": 94,
   "metadata": {},
   "outputs": [
    {
     "name": "stdout",
     "output_type": "stream",
     "text": [
      "[*********************100%***********************]  1 of 1 completed\n",
      "                Open      High       Low     Close  Adj Close  Volume  \\\n",
      "Date                                                                    \n",
      "2018-03-23  1.232605  1.236017  1.231997  1.232499   1.232499       0   \n",
      "2018-03-26  1.235391  1.244896  1.235239  1.235437   1.235437       0   \n",
      "2018-03-27  1.245501  1.247816  1.237333  1.245749   1.245749       0   \n",
      "2018-03-28  1.240803  1.242236  1.233715  1.240787   1.240787       0   \n",
      "2018-03-29  1.231284  1.233806  1.228516  1.231027   1.231027       0   \n",
      "...              ...       ...       ...       ...        ...     ...   \n",
      "2019-12-26  1.109509  1.110494  1.108279  1.109545   1.109545       0   \n",
      "2019-12-27  1.110124  1.118068  1.110000  1.110112   1.110112       0   \n",
      "2019-12-30  1.118155  1.122070  1.118155  1.118230   1.118230       0   \n",
      "2019-12-31  1.120448  1.124101  1.120072  1.120230   1.120230       0   \n",
      "2020-01-01  1.122083  1.122838  1.115947  1.122083   1.122083       0   \n",
      "\n",
      "                 SMA     trend      move        up      down  average_gain  \\\n",
      "Date                                                                         \n",
      "2018-03-23  1.227856  0.474909 -0.000106  0.000000 -0.000106      0.000047   \n",
      "2018-03-26  1.228438  0.695334  0.000046  0.000046  0.000000      0.000051   \n",
      "2018-03-27  1.229181  1.631935  0.000248  0.000248  0.000000      0.000068   \n",
      "2018-03-28  1.229755  1.104716 -0.000015  0.000000 -0.000015      0.000068   \n",
      "2018-03-29  1.230255  0.102940 -0.000258  0.000000 -0.000258      0.000068   \n",
      "...              ...       ...       ...       ...       ...           ...   \n",
      "2019-12-26  1.107619  0.188982  0.000037  0.000037  0.000000      0.000073   \n",
      "2019-12-27  1.107727  0.239764 -0.000012  0.000000 -0.000012      0.000065   \n",
      "2019-12-30  1.107996  1.015930  0.000075  0.000075  0.000000      0.000067   \n",
      "2019-12-31  1.108253  1.219552 -0.000219  0.000000 -0.000219      0.000067   \n",
      "2020-01-01  1.108667  1.341539  0.000000  0.000000  0.000000      0.000049   \n",
      "\n",
      "            average_loss  relative_strength       RSI  direction  \n",
      "Date                                                              \n",
      "2018-03-23     -0.000075          -0.628855 -1.694368         -1  \n",
      "2018-03-26     -0.000067          -0.759898 -3.164894          1  \n",
      "2018-03-27     -0.000048          -1.426390  3.345273          1  \n",
      "2018-03-28     -0.000038          -1.797672  2.253648         -1  \n",
      "2018-03-29     -0.000048          -1.430709  3.321754         -1  \n",
      "...                  ...                ...       ...        ...  \n",
      "2019-12-26     -0.000024          -3.080587  1.480633          1  \n",
      "2019-12-27     -0.000025          -2.654696  1.604341         -1  \n",
      "2019-12-30     -0.000025          -2.733771  1.576778          1  \n",
      "2019-12-31     -0.000032          -2.083421  1.923002         -1  \n",
      "2020-01-01     -0.000032          -1.508684  2.965856         -1  \n",
      "\n",
      "[443 rows x 16 columns]\n",
      "Accuracy of the model: 0.61\n",
      "[[19 14]\n",
      " [21 35]]\n"
     ]
    }
   ],
   "source": [
    "if __name__ == '__main__':\n",
    "    start_date = datetime.datetime(2018, 1, 1)\n",
    "    end_date   = datetime.datetime(2020, 1, 1)\n",
    "    \n",
    "    # EUR-USD currency pair\n",
    "    currency_data = fetch_data('EURUSD=X', start_date, end_date)\n",
    "    construct_signals(currency_data)\n",
    "    \n",
    "    currency_data = currency_data.dropna()\n",
    "    print(currency_data)\n",
    "    \n",
    "    X = currency_data[['trend', 'RSI']]\n",
    "    y = currency_data['direction']\n",
    "    \n",
    "    # split the data into training and test set (80%-20%)\n",
    "    X_train, X_test, y_train, y_test = train_test_split(X, y, test_size = 0.2)\n",
    "    \n",
    "    # model - we can find the right coefficients\n",
    "    parameters = {'gamma': [10, 1, 0.1, 0.01, 0.001], 'C': [1, 10, 100, 1000, 10000]}\n",
    "    grid = list(ParameterGrid(parameters))\n",
    "    \n",
    "    best_accuracy = 0\n",
    "    best_parameters = None\n",
    "    \n",
    "    for p in grid:\n",
    "        svm = SVC(C=p['C'], gamma=p['gamma'])\n",
    "        svm.fit(X_train, y_train)\n",
    "        predictions = svm.predict(X_test)\n",
    "        \n",
    "        if accuracy_score(y_test, predictions) >  best_accuracy:\n",
    "            best_accuracy = accuracy_score(y_test, predictions)\n",
    "            best_parameters = p\n",
    "            \n",
    "    # we have found the best parameters\n",
    "    model = SVC(C=best_parameters['C'], gamma=best_parameters['gamma'])\n",
    "    model.fit(X_train, y_train)\n",
    "    predictions = model.predict(X_test)\n",
    "    print('Accuracy of the model: %.2f' % accuracy_score(y_test, predictions))\n",
    "    print(confusion_matrix(predictions, y_test))"
   ]
  },
  {
   "cell_type": "code",
   "execution_count": null,
   "metadata": {},
   "outputs": [],
   "source": []
  },
  {
   "cell_type": "code",
   "execution_count": null,
   "metadata": {},
   "outputs": [],
   "source": []
  }
 ],
 "metadata": {
  "kernelspec": {
   "display_name": "Python 3",
   "language": "python",
   "name": "python3"
  },
  "language_info": {
   "codemirror_mode": {
    "name": "ipython",
    "version": 3
   },
   "file_extension": ".py",
   "mimetype": "text/x-python",
   "name": "python",
   "nbconvert_exporter": "python",
   "pygments_lexer": "ipython3",
   "version": "3.8.3"
  }
 },
 "nbformat": 4,
 "nbformat_minor": 4
}

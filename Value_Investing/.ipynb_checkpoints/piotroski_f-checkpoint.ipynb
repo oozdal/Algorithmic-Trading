{
 "cells": [
  {
   "cell_type": "code",
   "execution_count": 2,
   "metadata": {},
   "outputs": [],
   "source": [
    "# Piotroski f score implementation (data scraped from yahoo finance)\n",
    "\n",
    "import requests\n",
    "from bs4 import BeautifulSoup\n",
    "import pandas as pd"
   ]
  },
  {
   "cell_type": "code",
   "execution_count": 3,
   "metadata": {},
   "outputs": [],
   "source": [
    "tickers = [\"AXP\",\"AAPL\",\"BA\",\"CAT\",\"CVX\",\"CSCO\",\"DIS\",\"DOW\", \"XOM\",\n",
    "           \"HD\",\"IBM\",\"INTC\",\"JNJ\",\"KO\",\"MCD\",\"MMM\",\"MRK\",\"MSFT\",\n",
    "           \"NKE\",\"PFE\",\"PG\",\"TRV\",\"UTX\",\"UNH\",\"VZ\",\"V\",\"WMT\",\"WBA\"]"
   ]
  },
  {
   "cell_type": "code",
   "execution_count": 4,
   "metadata": {},
   "outputs": [],
   "source": [
    "#list of tickers whose financial data needs to be extracted\n",
    "financial_dir_cy = {} #directory to store current year's information\n",
    "financial_dir_py = {} #directory to store last year's information\n",
    "financial_dir_py2 = {} #directory to store last to last year's information"
   ]
  },
  {
   "cell_type": "code",
   "execution_count": 5,
   "metadata": {},
   "outputs": [
    {
     "name": "stdout",
     "output_type": "stream",
     "text": [
      "scraping financial statement data for  AXP\n",
      "scraping financial statement data for  AAPL\n",
      "scraping financial statement data for  BA\n",
      "scraping financial statement data for  CAT\n",
      "scraping financial statement data for  CVX\n",
      "scraping financial statement data for  CSCO\n",
      "scraping financial statement data for  DIS\n",
      "scraping financial statement data for  DOW\n",
      "scraping financial statement data for  XOM\n",
      "scraping financial statement data for  HD\n",
      "scraping financial statement data for  IBM\n",
      "scraping financial statement data for  INTC\n",
      "scraping financial statement data for  JNJ\n",
      "scraping financial statement data for  KO\n",
      "scraping financial statement data for  MCD\n",
      "scraping financial statement data for  MMM\n",
      "scraping financial statement data for  MRK\n",
      "scraping financial statement data for  MSFT\n",
      "scraping financial statement data for  NKE\n",
      "scraping financial statement data for  PFE\n",
      "scraping financial statement data for  PG\n",
      "scraping financial statement data for  TRV\n",
      "scraping financial statement data for  UTX\n",
      "scraping financial statement data for  UNH\n",
      "scraping financial statement data for  VZ\n",
      "scraping financial statement data for  V\n",
      "scraping financial statement data for  WMT\n",
      "scraping financial statement data for  WBA\n"
     ]
    }
   ],
   "source": [
    "for ticker in tickers:\n",
    "    try:\n",
    "        print(\"scraping financial statement data for \",ticker)\n",
    "        temp_dir = {}\n",
    "        temp_dir2 = {}\n",
    "        temp_dir3 = {}\n",
    "    #getting balance sheet data from yahoo finance for the given ticker\n",
    "        url = 'https://in.finance.yahoo.com/quote/'+ticker+'/balance-sheet?p='+ticker\n",
    "        page = requests.get(url)\n",
    "        page_content = page.content\n",
    "        soup = BeautifulSoup(page_content,'html.parser')\n",
    "        tabl = soup.find_all(\"div\", {\"class\" : \"M(0) Whs(n) BdEnd Bdc($seperatorColor) D(itb)\"})\n",
    "        for t in tabl:\n",
    "            rows = t.find_all(\"div\", {\"class\" : \"rw-expnded\"})\n",
    "            for row in rows:\n",
    "                temp_dir[row.get_text(separator='|').split(\"|\")[0]]=row.get_text(separator='|').split(\"|\")[1]\n",
    "                temp_dir2[row.get_text(separator='|').split(\"|\")[0]]=row.get_text(separator='|').split(\"|\")[2]\n",
    "                temp_dir3[row.get_text(separator='|').split(\"|\")[0]]=row.get_text(separator='|').split(\"|\")[3]\n",
    "        \n",
    "        #getting income statement data from yahoo finance for the given ticker\n",
    "        url = 'https://in.finance.yahoo.com/quote/'+ticker+'/financials?p='+ticker\n",
    "        page = requests.get(url)\n",
    "        page_content = page.content\n",
    "        soup = BeautifulSoup(page_content,'html.parser')\n",
    "        tabl = soup.find_all(\"div\", {\"class\" : \"M(0) Whs(n) BdEnd Bdc($seperatorColor) D(itb)\"})\n",
    "        for t in tabl:\n",
    "            rows = t.find_all(\"div\", {\"class\" : \"rw-expnded\"})\n",
    "            for row in rows:\n",
    "                temp_dir[row.get_text(separator='|').split(\"|\")[0]]=row.get_text(separator='|').split(\"|\")[1]\n",
    "                temp_dir2[row.get_text(separator='|').split(\"|\")[0]]=row.get_text(separator='|').split(\"|\")[2]\n",
    "                temp_dir3[row.get_text(separator='|').split(\"|\")[0]]=row.get_text(separator='|').split(\"|\")[3]\n",
    "        \n",
    "        #getting cashflow statement data from yahoo finance for the given ticker\n",
    "        url = 'https://in.finance.yahoo.com/quote/'+ticker+'/cash-flow?p='+ticker\n",
    "        page = requests.get(url)\n",
    "        page_content = page.content\n",
    "        soup = BeautifulSoup(page_content,'html.parser')\n",
    "        tabl = soup.find_all(\"div\", {\"class\" : \"M(0) Whs(n) BdEnd Bdc($seperatorColor) D(itb)\"})\n",
    "        for t in tabl:\n",
    "            rows = t.find_all(\"div\", {\"class\" : \"rw-expnded\"})\n",
    "            for row in rows:\n",
    "                temp_dir[row.get_text(separator='|').split(\"|\")[0]]=row.get_text(separator='|').split(\"|\")[1]\n",
    "                temp_dir2[row.get_text(separator='|').split(\"|\")[0]]=row.get_text(separator='|').split(\"|\")[2]\n",
    "                temp_dir3[row.get_text(separator='|').split(\"|\")[0]]=row.get_text(separator='|').split(\"|\")[3] \n",
    "        \n",
    "        #combining all extracted information with the corresponding ticker\n",
    "        financial_dir_cy[ticker] = temp_dir\n",
    "        financial_dir_py[ticker] = temp_dir2\n",
    "        financial_dir_py2[ticker] = temp_dir3\n",
    "    except:\n",
    "        print(\"Problem scraping data for \",ticker)"
   ]
  },
  {
   "cell_type": "code",
   "execution_count": 6,
   "metadata": {},
   "outputs": [],
   "source": [
    "#storing information in pandas dataframe\n",
    "combined_financials_cy = pd.DataFrame(financial_dir_cy)\n",
    "#combined_financials_cy.dropna(axis=1,inplace=True) #dropping columns with NaN values\n",
    "combined_financials_py = pd.DataFrame(financial_dir_py)\n",
    "#combined_financials_py.dropna(axis=1,inplace=True)\n",
    "combined_financials_py2 = pd.DataFrame(financial_dir_py2)\n",
    "#combined_financials_py2.dropna(axis=1,inplace=True)\n",
    "tickers = combined_financials_cy.columns #updating the tickers list based on only those tickers whose values were successfully extracted"
   ]
  },
  {
   "cell_type": "code",
   "execution_count": 7,
   "metadata": {},
   "outputs": [],
   "source": [
    "# selecting relevant financial information for each stock using fundamental data\n",
    "stats = [\"Net income available to common shareholders\",\n",
    "         \"Total assets\",\n",
    "         \"Net cash provided by operating activities\",\n",
    "         \"Long-term debt\",\n",
    "         \"Other long-term liabilities\",\n",
    "         \"Total current assets\",\n",
    "         \"Total current liabilities\",\n",
    "         \"Common stock\",\n",
    "         \"Total revenue\",\n",
    "         \"Gross profit\"] # change as required\n",
    "\n",
    "indx = [\"NetIncome\",\"TotAssets\",\"CashFlowOps\",\"LTDebt\",\"OtherLTDebt\",\n",
    "        \"CurrAssets\",\"CurrLiab\",\"CommStock\",\"TotRevenue\",\"GrossProfit\"]"
   ]
  },
  {
   "cell_type": "code",
   "execution_count": 8,
   "metadata": {},
   "outputs": [],
   "source": [
    "def info_filter(df,stats,indx):\n",
    "    \"\"\"function to filter relevant financial information for each \n",
    "       stock and transforming string inputs to numeric\"\"\"\n",
    "    tickers = df.columns\n",
    "    all_stats = {}\n",
    "    for ticker in tickers:\n",
    "        try:\n",
    "            temp = df[ticker]\n",
    "            ticker_stats = []\n",
    "            for stat in stats:\n",
    "                ticker_stats.append(temp.loc[stat])\n",
    "            all_stats['{}'.format(ticker)] = ticker_stats\n",
    "        except:\n",
    "            print(\"can't read data for \",ticker)\n",
    "    \n",
    "    all_stats_df = pd.DataFrame(all_stats,index=indx)\n",
    "    \n",
    "    # cleansing of fundamental data imported in dataframe\n",
    "    all_stats_df[tickers] = all_stats_df[tickers].replace({',': ''}, regex=True)\n",
    "    for ticker in all_stats_df.columns:\n",
    "        all_stats_df[ticker] = pd.to_numeric(all_stats_df[ticker].values,errors='coerce')\n",
    "    return all_stats_df"
   ]
  },
  {
   "cell_type": "code",
   "execution_count": 9,
   "metadata": {},
   "outputs": [],
   "source": [
    "def piotroski_f(df_cy,df_py,df_py2):\n",
    "    \"\"\"function to calculate f score of each stock and output information as dataframe\"\"\"\n",
    "    f_score = {}\n",
    "    tickers = df_cy.columns\n",
    "    for ticker in tickers:\n",
    "        ROA_FS = int(df_cy.loc[\"NetIncome\",ticker]/((df_cy.loc[\"TotAssets\",ticker]+df_py.loc[\"TotAssets\",ticker])/2) > 0)\n",
    "        CFO_FS = int(df_cy.loc[\"CashFlowOps\",ticker] > 0)\n",
    "        ROA_D_FS = int(df_cy.loc[\"NetIncome\",ticker]/(df_cy.loc[\"TotAssets\",ticker]+df_py.loc[\"TotAssets\",ticker])/2 > df_py.loc[\"NetIncome\",ticker]/(df_py.loc[\"TotAssets\",ticker]+df_py2.loc[\"TotAssets\",ticker])/2)\n",
    "        CFO_ROA_FS = int(df_cy.loc[\"CashFlowOps\",ticker]/df_cy.loc[\"TotAssets\",ticker] > df_cy.loc[\"NetIncome\",ticker]/((df_cy.loc[\"TotAssets\",ticker]+df_py.loc[\"TotAssets\",ticker])/2))\n",
    "        LTD_FS = int((df_cy.loc[\"LTDebt\",ticker] + df_cy.loc[\"OtherLTDebt\",ticker])<(df_py.loc[\"LTDebt\",ticker] + df_py.loc[\"OtherLTDebt\",ticker]))\n",
    "        CR_FS = int((df_cy.loc[\"CurrAssets\",ticker]/df_cy.loc[\"CurrLiab\",ticker])>(df_py.loc[\"CurrAssets\",ticker]/df_py.loc[\"CurrLiab\",ticker]))\n",
    "        DILUTION_FS = int(df_cy.loc[\"CommStock\",ticker] <= df_py.loc[\"CommStock\",ticker])\n",
    "        GM_FS = int((df_cy.loc[\"GrossProfit\",ticker]/df_cy.loc[\"TotRevenue\",ticker])>(df_py.loc[\"GrossProfit\",ticker]/df_py.loc[\"TotRevenue\",ticker]))\n",
    "        ATO_FS = int(df_cy.loc[\"TotRevenue\",ticker]/((df_cy.loc[\"TotAssets\",ticker]+df_py.loc[\"TotAssets\",ticker])/2)>df_py.loc[\"TotRevenue\",ticker]/((df_py.loc[\"TotAssets\",ticker]+df_py2.loc[\"TotAssets\",ticker])/2))\n",
    "        f_score[ticker] = [ROA_FS,CFO_FS,ROA_D_FS,CFO_ROA_FS,LTD_FS,CR_FS,DILUTION_FS,GM_FS,ATO_FS]\n",
    "    f_score_df = pd.DataFrame(f_score,index=[\"PosROA\",\"PosCFO\",\"ROAChange\",\"Accruals\",\"Leverage\",\"Liquidity\",\"Dilution\",\"GM\",\"ATO\"])\n",
    "    return f_score_df"
   ]
  },
  {
   "cell_type": "code",
   "execution_count": 10,
   "metadata": {},
   "outputs": [],
   "source": [
    "# Selecting stocks with highest Piotroski f score\n",
    "transformed_df_cy = info_filter(combined_financials_cy,stats,indx)\n",
    "transformed_df_py = info_filter(combined_financials_py,stats,indx)\n",
    "transformed_df_py2 = info_filter(combined_financials_py2,stats,indx)"
   ]
  },
  {
   "cell_type": "code",
   "execution_count": 11,
   "metadata": {},
   "outputs": [
    {
     "data": {
      "text/plain": [
       "CAT     8\n",
       "PG      8\n",
       "DOW     7\n",
       "MSFT    7\n",
       "KO      6\n",
       "AAPL    6\n",
       "CSCO    6\n",
       "PFE     6\n",
       "NKE     6\n",
       "WMT     5\n",
       "CVX     5\n",
       "HD      5\n",
       "JNJ     5\n",
       "AXP     5\n",
       "MMM     5\n",
       "UNH     5\n",
       "VZ      5\n",
       "V       5\n",
       "MCD     4\n",
       "INTC    4\n",
       "IBM     4\n",
       "MRK     4\n",
       "BA      4\n",
       "WBA     4\n",
       "XOM     3\n",
       "TRV     3\n",
       "DIS     3\n",
       "UTX     0\n",
       "dtype: int64"
      ]
     },
     "execution_count": 11,
     "metadata": {},
     "output_type": "execute_result"
    }
   ],
   "source": [
    "f_score_df = piotroski_f(transformed_df_cy,transformed_df_py,transformed_df_py2)\n",
    "f_score_df.sum().sort_values(ascending=False)"
   ]
  },
  {
   "cell_type": "code",
   "execution_count": null,
   "metadata": {},
   "outputs": [],
   "source": []
  }
 ],
 "metadata": {
  "kernelspec": {
   "display_name": "Python 3",
   "language": "python",
   "name": "python3"
  },
  "language_info": {
   "codemirror_mode": {
    "name": "ipython",
    "version": 3
   },
   "file_extension": ".py",
   "mimetype": "text/x-python",
   "name": "python",
   "nbconvert_exporter": "python",
   "pygments_lexer": "ipython3",
   "version": "3.8.3"
  }
 },
 "nbformat": 4,
 "nbformat_minor": 4
}

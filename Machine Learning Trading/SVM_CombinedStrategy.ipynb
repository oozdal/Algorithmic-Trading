{
 "cells": [
  {
   "cell_type": "markdown",
   "metadata": {},
   "source": [
    "# Support Vector Machines with SMA and RSI trading strategy"
   ]
  },
  {
   "cell_type": "code",
   "execution_count": 11,
   "metadata": {},
   "outputs": [],
   "source": [
    "import datetime\n",
    "import pandas as pd\n",
    "import yfinance as yf\n",
    "import numpy as np\n",
    "from sklearn.svm import SVC\n",
    "from sklearn.metrics import confusion_matrix\n",
    "from sklearn.model_selection import train_test_split\n",
    "from sklearn.metrics import accuracy_score\n",
    "from sklearn.model_selection import ParameterGrid\n",
    "import matplotlib.pyplot as plt"
   ]
  },
  {
   "cell_type": "code",
   "execution_count": 12,
   "metadata": {},
   "outputs": [],
   "source": [
    "def fetch_data(symbol, start, end):\n",
    "    ticker = yf.download(symbol, start, end)\n",
    "    return pd.DataFrame(ticker)"
   ]
  },
  {
   "cell_type": "code",
   "execution_count": 13,
   "metadata": {},
   "outputs": [],
   "source": [
    "def calculate_rsi(data, period=14):\n",
    "    data['move'] = data['Close'] - data['Close'].shift(1)\n",
    "    data['up'] = np.where(data['move'] > 0, data['move'], 0)\n",
    "    data['down'] = np.where(data['move'] < 0, data['move'], 0)\n",
    "    data['average_gain'] = data['up'].rolling(period).mean()\n",
    "    data['average_loss'] = data['down'].rolling(period).mean()\n",
    "    data['relative_strength'] =  data['average_gain'] / data['average_loss']\n",
    "    return 100.0 - (100.0 / (1.0 + data['relative_strength']))"
   ]
  },
  {
   "cell_type": "code",
   "execution_count": 28,
   "metadata": {},
   "outputs": [],
   "source": [
    "def construct_signals(data, ma_period=60, rsi_period=14):\n",
    "    data['SMA'] = data['Close'].rolling(window=ma_period).mean()\n",
    "    # these are the 2 features\n",
    "    data['trend'] = (data['Open'] - data['SMA']) * 100\n",
    "    data['RSI'] = calculate_rsi(data, rsi_period) /100 # Divided by 100 to normalize\n",
    "    # we need the target variables (labels)\n",
    "    data['direction'] = np.where(data['Close'] - data['Open'] > 0, 1, -1)"
   ]
  },
  {
   "cell_type": "code",
   "execution_count": 47,
   "metadata": {},
   "outputs": [
    {
     "name": "stdout",
     "output_type": "stream",
     "text": [
      "[*********************100%***********************]  1 of 1 completed\n",
      "Accuracy of the model: 0.58\n",
      "[[13 11]\n",
      " [33 49]]\n"
     ]
    }
   ],
   "source": [
    "if __name__ == '__main__':\n",
    "    start_date = datetime.datetime(2019, 1, 1)\n",
    "    end_date   = datetime.datetime(2021, 5, 1)\n",
    "    \n",
    "    # EUR-USD currency pair\n",
    "    currency_data = fetch_data('EURUSD=X', start_date, end_date)\n",
    "    construct_signals(currency_data)\n",
    "    \n",
    "    currency_data = currency_data.dropna()\n",
    "    \n",
    "    X = currency_data[['trend', 'RSI']]\n",
    "    y = currency_data['direction']\n",
    "    \n",
    "    # split the data into training and test set (80%-20%)\n",
    "    X_train, X_test, y_train, y_test = train_test_split(X, y, test_size = 0.2)\n",
    "    \n",
    "    # model - we can find the right coefficients\n",
    "    parameters = {'gamma': [10, 1, 0.1, 0.01, 0.001], 'C': [1, 10, 100, 1000, 10000]}\n",
    "    grid = list(ParameterGrid(parameters))\n",
    "    \n",
    "    best_accuracy = 0\n",
    "    best_parameters = None\n",
    "    \n",
    "    for p in grid:\n",
    "        svm = SVC(C=p['C'], gamma=p['gamma'])\n",
    "        svm.fit(X_train, y_train)\n",
    "        predictions = svm.predict(X_test)\n",
    "        \n",
    "        if accuracy_score(y_test, predictions) >  best_accuracy:\n",
    "            best_accuracy = accuracy_score(y_test, predictions)\n",
    "            best_parameters = p\n",
    "            \n",
    "    # we have found the best parameters\n",
    "    model = SVC(C=best_parameters['C'], gamma=best_parameters['gamma'])\n",
    "    model.fit(X_train, y_train)\n",
    "    predictions = model.predict(X_test)\n",
    "    print('Accuracy of the model: %.2f' % accuracy_score(y_test, predictions))\n",
    "    print(confusion_matrix(predictions, y_test))"
   ]
  },
  {
   "cell_type": "code",
   "execution_count": null,
   "metadata": {},
   "outputs": [],
   "source": []
  }
 ],
 "metadata": {
  "kernelspec": {
   "display_name": "Python 3",
   "language": "python",
   "name": "python3"
  },
  "language_info": {
   "codemirror_mode": {
    "name": "ipython",
    "version": 3
   },
   "file_extension": ".py",
   "mimetype": "text/x-python",
   "name": "python",
   "nbconvert_exporter": "python",
   "pygments_lexer": "ipython3",
   "version": "3.8.3"
  }
 },
 "nbformat": 4,
 "nbformat_minor": 4
}

{
 "cells": [
  {
   "cell_type": "code",
   "execution_count": 31,
   "metadata": {},
   "outputs": [],
   "source": [
    "# Automated trading script - MACD\n",
    "\n",
    "import fxcmpy\n",
    "import numpy as np\n",
    "from stocktrends import Renko\n",
    "import statsmodels.api as sm\n",
    "import time\n",
    "import copy"
   ]
  },
  {
   "cell_type": "code",
   "execution_count": 32,
   "metadata": {},
   "outputs": [],
   "source": [
    "#initiating API connection and defining trade parameters\n",
    "token_path = \"/Users/oozdal/keys/API_Trading.txt\"\n",
    "TOKEN = open(token_path,'r').read()\n",
    "TOKEN = TOKEN[0:40]"
   ]
  },
  {
   "cell_type": "code",
   "execution_count": 33,
   "metadata": {},
   "outputs": [],
   "source": [
    "con = fxcmpy.fxcmpy(access_token = TOKEN, log_level = 'error', server='demo')"
   ]
  },
  {
   "cell_type": "code",
   "execution_count": 34,
   "metadata": {},
   "outputs": [],
   "source": [
    "#defining strategy parameters\n",
    "pairs = ['EUR/USD','GBP/USD','USD/CHF','AUD/USD','USD/CAD'] #currency pairs to be included in the strategy\n",
    "pos_size = 10 #max capital allocated/position size for any currency pair"
   ]
  },
  {
   "cell_type": "code",
   "execution_count": 35,
   "metadata": {},
   "outputs": [],
   "source": [
    "def MACD(DF,a,b,c):\n",
    "    \"\"\"function to calculate MACD\n",
    "       typical values a = 12; b =26, c =9\"\"\"\n",
    "    df = DF.copy()\n",
    "    df[\"MA_Fast\"]=df[\"Close\"].ewm(span=a,min_periods=a).mean()\n",
    "    df[\"MA_Slow\"]=df[\"Close\"].ewm(span=b,min_periods=b).mean()\n",
    "    df[\"MACD\"]=df[\"MA_Fast\"]-df[\"MA_Slow\"]\n",
    "    df[\"Signal\"]=df[\"MACD\"].ewm(span=c,min_periods=c).mean()\n",
    "    df.dropna(inplace=True)\n",
    "    return (df[\"MACD\"],df[\"Signal\"])"
   ]
  },
  {
   "cell_type": "code",
   "execution_count": 36,
   "metadata": {},
   "outputs": [],
   "source": [
    "def ATR(DF,n):\n",
    "    \"function to calculate True Range and Average True Range\"\n",
    "    df = DF.copy()\n",
    "    df['H-L']=abs(df['High']-df['Low'])\n",
    "    df['H-PC']=abs(df['High']-df['Close'].shift(1))\n",
    "    df['L-PC']=abs(df['Low']-df['Close'].shift(1))\n",
    "    df['TR']=df[['H-L','H-PC','L-PC']].max(axis=1,skipna=False)\n",
    "    df['ATR'] = df['TR'].rolling(n).mean()\n",
    "    #df['ATR'] = df['TR'].ewm(span=n,adjust=False,min_periods=n).mean()\n",
    "    df2 = df.drop(['H-L','H-PC','L-PC'],axis=1)\n",
    "    return df2"
   ]
  },
  {
   "cell_type": "code",
   "execution_count": 37,
   "metadata": {},
   "outputs": [],
   "source": [
    "def slope(ser,n):\n",
    "    \"function to calculate the slope of n consecutive points on a plot\"\n",
    "    slopes = [i*0 for i in range(n-1)]\n",
    "    for i in range(n,len(ser)+1):\n",
    "        y = ser[i-n:i]\n",
    "        x = np.array(range(n))\n",
    "        y_scaled = (y - y.min())/(y.max() - y.min())\n",
    "        x_scaled = (x - x.min())/(x.max() - x.min())\n",
    "        x_scaled = sm.add_constant(x_scaled)\n",
    "        model = sm.OLS(y_scaled,x_scaled)\n",
    "        results = model.fit()\n",
    "        slopes.append(results.params[-1])\n",
    "    slope_angle = (np.rad2deg(np.arctan(np.array(slopes))))\n",
    "    return np.array(slope_angle)"
   ]
  },
  {
   "cell_type": "code",
   "execution_count": 38,
   "metadata": {},
   "outputs": [],
   "source": [
    "def renko_DF(DF):\n",
    "    \"function to convert ohlc data into renko bricks\"\n",
    "    df = DF.copy()\n",
    "    df.reset_index(inplace=True)\n",
    "    df = df.iloc[:,[0,1,2,3,4,5]]\n",
    "    df.columns = [\"date\",\"open\",\"close\",\"high\",\"low\",\"volume\"]\n",
    "    df2 = Renko(df)\n",
    "    df2.brick_size = round(ATR(DF,120)[\"ATR\"][-1],4)\n",
    "    renko_df = df2.get_bricks()\n",
    "    renko_df[\"bar_num\"] = np.where(renko_df[\"uptrend\"]==True,1,np.where(renko_df[\"uptrend\"]==False,-1,0))\n",
    "    for i in range(1,len(renko_df[\"bar_num\"])):\n",
    "        if renko_df[\"bar_num\"][i]>0 and renko_df[\"bar_num\"][i-1]>0:\n",
    "            renko_df[\"bar_num\"][i]+=renko_df[\"bar_num\"][i-1]\n",
    "        elif renko_df[\"bar_num\"][i]<0 and renko_df[\"bar_num\"][i-1]<0:\n",
    "            renko_df[\"bar_num\"][i]+=renko_df[\"bar_num\"][i-1]\n",
    "    renko_df.drop_duplicates(subset=\"date\",keep=\"last\",inplace=True)\n",
    "    return renko_df"
   ]
  },
  {
   "cell_type": "code",
   "execution_count": 39,
   "metadata": {},
   "outputs": [],
   "source": [
    "def renko_merge(DF):\n",
    "    \"function to merging renko df with original ohlc df\"\n",
    "    df = copy.deepcopy(DF)\n",
    "    df[\"Date\"] = df.index\n",
    "    renko = renko_DF(df)\n",
    "    renko.columns = [\"Date\",\"open\",\"high\",\"low\",\"close\",\"uptrend\",\"bar_num\"]\n",
    "    merged_df = df.merge(renko.loc[:,[\"Date\",\"bar_num\"]],how=\"outer\",on=\"Date\")\n",
    "    merged_df[\"bar_num\"].fillna(method='ffill',inplace=True)\n",
    "    merged_df[\"macd\"]= MACD(merged_df,12,26,9)[0]\n",
    "    merged_df[\"macd_sig\"]= MACD(merged_df,12,26,9)[1]\n",
    "    merged_df[\"macd_slope\"] = slope(merged_df[\"macd\"],5)\n",
    "    merged_df[\"macd_sig_slope\"] = slope(merged_df[\"macd_sig\"],5)\n",
    "    return merged_df"
   ]
  },
  {
   "cell_type": "code",
   "execution_count": 40,
   "metadata": {},
   "outputs": [],
   "source": [
    "def trade_signal(MERGED_DF,l_s):\n",
    "    \"function to generate signal\"\n",
    "    signal = \"\"\n",
    "    df = copy.deepcopy(MERGED_DF)\n",
    "    if l_s == \"\":\n",
    "        if df[\"bar_num\"].tolist()[-1]>=2 and df[\"macd\"].tolist()[-1]>df[\"macd_sig\"].tolist()[-1] and df[\"macd_slope\"].tolist()[-1]>df[\"macd_sig_slope\"].tolist()[-1]:\n",
    "            signal = \"Buy\"\n",
    "        elif df[\"bar_num\"].tolist()[-1]<=-2 and df[\"macd\"].tolist()[-1]<df[\"macd_sig\"].tolist()[-1] and df[\"macd_slope\"].tolist()[-1]<df[\"macd_sig_slope\"].tolist()[-1]:\n",
    "            signal = \"Sell\"\n",
    "            \n",
    "    elif l_s == \"long\":\n",
    "        if df[\"bar_num\"].tolist()[-1]<=-2 and df[\"macd\"].tolist()[-1]<df[\"macd_sig\"].tolist()[-1] and df[\"macd_slope\"].tolist()[-1]<df[\"macd_sig_slope\"].tolist()[-1]:\n",
    "            signal = \"Close_Sell\"\n",
    "        elif df[\"macd\"].tolist()[-1]<df[\"macd_sig\"].tolist()[-1] and df[\"macd_slope\"].tolist()[-1]<df[\"macd_sig_slope\"].tolist()[-1]:\n",
    "            signal = \"Close\"\n",
    "            \n",
    "    elif l_s == \"short\":\n",
    "        if df[\"bar_num\"].tolist()[-1]>=2 and df[\"macd\"].tolist()[-1]>df[\"macd_sig\"].tolist()[-1] and df[\"macd_slope\"].tolist()[-1]>df[\"macd_sig_slope\"].tolist()[-1]:\n",
    "            signal = \"Close_Buy\"\n",
    "        elif df[\"macd\"].tolist()[-1]>df[\"macd_sig\"].tolist()[-1] and df[\"macd_slope\"].tolist()[-1]>df[\"macd_sig_slope\"].tolist()[-1]:\n",
    "            signal = \"Close\"\n",
    "    return signal"
   ]
  },
  {
   "cell_type": "code",
   "execution_count": 41,
   "metadata": {},
   "outputs": [],
   "source": [
    "def main():\n",
    "    try:\n",
    "        open_pos = con.get_open_positions()\n",
    "        for currency in pairs:\n",
    "            long_short = \"\"\n",
    "            if len(open_pos)>0:\n",
    "                open_pos_cur = open_pos[open_pos[\"currency\"]==currency]\n",
    "                if len(open_pos_cur)>0:\n",
    "                    if open_pos_cur[\"isBuy\"].tolist()[0]==True:\n",
    "                        long_short = \"long\"\n",
    "                    elif open_pos_cur[\"isBuy\"].tolist()[0]==False:\n",
    "                        long_short = \"short\"   \n",
    "            data = con.get_candles(currency, period='m5', number=250)\n",
    "            ohlc = data.iloc[:,[0,1,2,3,8]]\n",
    "            ohlc.columns = [\"Open\",\"Close\",\"High\",\"Low\",\"Volume\"]\n",
    "            signal = trade_signal(renko_merge(ohlc),long_short)\n",
    "    \n",
    "            if signal == \"Buy\":\n",
    "                con.open_trade(symbol=currency, is_buy=True, is_in_pips=True, amount=pos_size, \n",
    "                               time_in_force='GTC', stop=-8, trailing_step =True, order_type='AtMarket')\n",
    "                print(\"New long position initiated for \", currency)\n",
    "            elif signal == \"Sell\":\n",
    "                con.open_trade(symbol=currency, is_buy=False, is_in_pips=True, amount=pos_size, \n",
    "                               time_in_force='GTC', stop=-8, trailing_step =True, order_type='AtMarket')\n",
    "                print(\"New short position initiated for \", currency)\n",
    "            elif signal == \"Close\":\n",
    "                con.close_all_for_symbol(currency)\n",
    "                print(\"All positions closed for \", currency)\n",
    "            elif signal == \"Close_Buy\":\n",
    "                con.close_all_for_symbol(currency)\n",
    "                print(\"Existing Short position closed for \", currency)\n",
    "                con.open_trade(symbol=currency, is_buy=True, is_in_pips=True, amount=pos_size, \n",
    "                               time_in_force='GTC', stop=-8, trailing_step =True, order_type='AtMarket')\n",
    "                print(\"New long position initiated for \", currency)\n",
    "            elif signal == \"Close_Sell\":\n",
    "                con.close_all_for_symbol(currency)\n",
    "                print(\"Existing long position closed for \", currency)\n",
    "                con.open_trade(symbol=currency, is_buy=False, is_in_pips=True, amount=pos_size, \n",
    "                               time_in_force='GTC', stop=-8, trailing_step =True, order_type='AtMarket')\n",
    "                print(\"New short position initiated for \", currency)\n",
    "    except:\n",
    "        print(\"error encountered....skipping this iteration\")"
   ]
  },
  {
   "cell_type": "code",
   "execution_count": 42,
   "metadata": {},
   "outputs": [
    {
     "name": "stdout",
     "output_type": "stream",
     "text": [
      "passthrough at  2021-05-14 15:33:06\n",
      "error encountered....skipping this iteration\n",
      "passthrough at  2021-05-14 15:38:06\n",
      "error encountered....skipping this iteration\n",
      "passthrough at  2021-05-14 15:43:06\n",
      "error encountered....skipping this iteration\n",
      "passthrough at  2021-05-14 15:48:06\n",
      "error encountered....skipping this iteration\n",
      "passthrough at  2021-05-14 15:53:06\n",
      "error encountered....skipping this iteration\n",
      "passthrough at  2021-05-14 15:58:06\n",
      "error encountered....skipping this iteration\n",
      "passthrough at  2021-05-14 16:03:06\n",
      "error encountered....skipping this iteration\n",
      "passthrough at  2021-05-14 16:08:06\n",
      "error encountered....skipping this iteration\n",
      "passthrough at  2021-05-14 16:13:06\n",
      "error encountered....skipping this iteration\n",
      "passthrough at  2021-05-14 16:18:06\n",
      "error encountered....skipping this iteration\n",
      "passthrough at  2021-05-14 16:23:06\n",
      "error encountered....skipping this iteration\n",
      "passthrough at  2021-05-14 16:28:06\n",
      "error encountered....skipping this iteration\n",
      "closing all positions for  EUR/USD\n",
      "closing all positions for  GBP/USD\n",
      "closing all positions for  USD/CHF\n",
      "closing all positions for  AUD/USD\n",
      "closing all positions for  USD/CAD\n"
     ]
    }
   ],
   "source": [
    "# Continuous execution        \n",
    "starttime=time.time()\n",
    "timeout = time.time() + 60*60*1  # 60 seconds times 60 meaning the script will run for 1 hr\n",
    "while time.time() <= timeout:\n",
    "    try:\n",
    "        print(\"passthrough at \",time.strftime('%Y-%m-%d %H:%M:%S', time.localtime(time.time())))\n",
    "        main()\n",
    "        time.sleep(300 - ((time.time() - starttime) % 300.0)) # 5 minute interval between each new execution\n",
    "    except KeyboardInterrupt:\n",
    "        print('\\n\\nKeyboard exception received. Exiting.')\n",
    "        exit()\n",
    "\n",
    "# Close all positions and exit\n",
    "for currency in pairs:\n",
    "    print(\"closing all positions for \",currency)\n",
    "    con.close_all_for_symbol(currency)\n",
    "con.close()"
   ]
  },
  {
   "cell_type": "code",
   "execution_count": null,
   "metadata": {},
   "outputs": [],
   "source": []
  }
 ],
 "metadata": {
  "kernelspec": {
   "display_name": "Python 3",
   "language": "python",
   "name": "python3"
  },
  "language_info": {
   "codemirror_mode": {
    "name": "ipython",
    "version": 3
   },
   "file_extension": ".py",
   "mimetype": "text/x-python",
   "name": "python",
   "nbconvert_exporter": "python",
   "pygments_lexer": "ipython3",
   "version": "3.8.3"
  }
 },
 "nbformat": 4,
 "nbformat_minor": 4
}

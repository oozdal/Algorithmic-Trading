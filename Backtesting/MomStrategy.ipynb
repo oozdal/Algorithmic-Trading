{
 "cells": [
  {
   "cell_type": "markdown",
   "metadata": {},
   "source": [
    "# Momentum Trading Strategy Implementation"
   ]
  },
  {
   "cell_type": "code",
   "execution_count": 8,
   "metadata": {},
   "outputs": [],
   "source": [
    "import yfinance as yf\n",
    "import backtrader as bt\n",
    "import pandas as pd\n",
    "import datetime\n",
    "import matplotlib.pyplot as plt\n",
    "from scipy.stats import linregress\n",
    "import numpy as np"
   ]
  },
  {
   "cell_type": "code",
   "execution_count": 24,
   "metadata": {},
   "outputs": [],
   "source": [
    "class Momentum(bt.Indicator):\n",
    "    # every trading day has a momentum parameter\n",
    "    # except for the first 90 days\n",
    "    lines = ('momentum_trend',)\n",
    "    params = (('period', 90),)\n",
    "    \n",
    "    def __init__(self):\n",
    "        self.addminperiod = self.params.period\n",
    "        \n",
    "    def next(self):\n",
    "        returns = np.log(self.data.get(size=self.params.period))\n",
    "        x = np.arange(len(returns))\n",
    "        beta, _, rvalue, _, _ = linregress(x, returns)\n",
    "        annualized = (1 + beta) ** 252\n",
    "        self.lines.momentum_trend[0] = annualized * rvalue ** 2"
   ]
  },
  {
   "cell_type": "code",
   "execution_count": 31,
   "metadata": {},
   "outputs": [],
   "source": [
    "class MomentumStrategy(bt.Strategy):\n",
    "    \n",
    "    def __init__(self):\n",
    "        self.counter = 0\n",
    "        self.indicators = {}\n",
    "        self.sorted_data = []\n",
    "        # we store the SP500 (this is the index) data as the first item of the dataset\n",
    "        self.spy = self.data[0]\n",
    "        # all the other stocks (present in SP500)\n",
    "        self.stocks = self.data[1:]\n",
    "        \n",
    "        for stock in self.stocks:\n",
    "            self.indicators[stock] = {}\n",
    "            self.indicators[stock]['momentum'] = Momentum(stock.close, period = 90)\n",
    "            self.indicators[stock]['sma100'] = bt.indicators.\\\n",
    "                MovingAverageSimple(stock.close, period=100)\n",
    "            self.indicators[stock]['atr20'] = bt.indicators.ATR(stock, period=20)\n",
    "            \n",
    "        # SMA for SP500 index - because we open long positions when the SP500 index\n",
    "        # is above its SMA(200) BULLISH MARKET\n",
    "        self.sma200 = bt.indicators.MovingAverageSimple(self.spy.close, period=200)\n",
    "        \n",
    "    def prenext(self):\n",
    "        # count the number of days elapsed\n",
    "        self.next()\n",
    "        \n",
    "    def next(self):\n",
    "        # a wee has passed so we have to make trades\n",
    "        if self.counter % 5 == 0:\n",
    "            self.rebalance_portfolio()\n",
    "        if self.counter % 10 == 0:\n",
    "            # 2 weeks have passsed\n",
    "            self.update_positions()\n",
    "        \n",
    "        self.counter += 1\n",
    "        \n",
    "    def rebalance_portfolio(self):\n",
    "        \n",
    "        self.sorted_data = list(filter(lambda stock_data: len(stock_data) > 100, self.stocks))\n",
    "        # sort the SP500 stocks based on momentum\n",
    "        self.sorted_data_sort(key=lambda stock: self.indicators[stock]['momentum'][0])\n",
    "        num_stocks = len(self.sorted_data)\n",
    "        \n",
    "        # sell stocks (close the long positions) - top 20%\n",
    "        for index, single_stock in enumerate(self.sorted_data[:num_stocks*0.2]):\n",
    "            # we can check whether there are open positions\n",
    "            if self.getposition(self.data).size:\n",
    "                # if the stock is not in the top 20% then sell it\n",
    "                # sell the stock if its price falls below its 100 days MA\n",
    "                if index > num_stocks*0.2 or single_stock < self.indicators[single_stock]['sma100']:\n",
    "                    self.close(single_stock)\n",
    "       \n",
    "        # we open long positions when the SMA is below the SP500 index\n",
    "        if self.spy < self.sma200:\n",
    "            return\n",
    "        \n",
    "        # consider the top 20% of the stocks and buy accordingly\n",
    "        for index, signle_stock in enumerate(self.sorted_data):\n",
    "            cash = self.broker.get_cash()\n",
    "            value = self.broker.get_value()\n",
    "            if cash > 0 and not self.getposition(self.data).size:\n",
    "                risk_factor = 0.001\n",
    "                size = value * risk_factor / self.indicators[single_stock][\"atr20\"]\n",
    "                self.buy(single_stock, size=size)\n",
    "                \n",
    "    def update_positions(self):\n",
    "        num_stocks = len(self.sorted_data)\n",
    "        \n",
    "        # top 20% momentum range\n",
    "        for index, single_stock in enumerate(self.sorted_data[:int(0.2 * num_stocks)]):\n",
    "            cash = self.broker.get_cash()\n",
    "            value = self.broker.get_value()\n",
    "            if cash > 0:\n",
    "                risk_factor = 0.001\n",
    "                size = value * risk_factor / self.indicators[single_stock][\"atr20\"]\n",
    "                self.order_target_size(single_stock, size)"
   ]
  },
  {
   "cell_type": "code",
   "execution_count": 22,
   "metadata": {},
   "outputs": [],
   "source": [
    "def download_stocks(stocks, start, end):\n",
    "    data = {}\n",
    "    \n",
    "    for stock in stocks:\n",
    "        ticker = yf.download(stock, start, end)\n",
    "        data[stock] = ticker['Adj Close']\n",
    "        \n",
    "    return pd.DataFrame(data)    "
   ]
  },
  {
   "cell_type": "code",
   "execution_count": 23,
   "metadata": {},
   "outputs": [],
   "source": [
    "def calculate_momentum(data):\n",
    "    log_data = np.log(data)\n",
    "    x_data = np.arange(len(log_data))\n",
    "    beta, _, rvalue, _, _ = linregress(x_data, log_data)\n",
    "    # We have to annualize the slope\n",
    "    # There are 252 trading days in a year\n",
    "    return (1+beta)**252 * (rvalue**2)"
   ]
  },
  {
   "cell_type": "code",
   "execution_count": 33,
   "metadata": {},
   "outputs": [
    {
     "name": "stdout",
     "output_type": "stream",
     "text": [
      "^GSPC\n",
      "MMM\n",
      "AOS\n",
      "ABT\n",
      "ABBV\n",
      "ACN\n",
      "ATVI\n",
      "AYI\n",
      "ADBE\n",
      "AAP\n",
      "AMD\n",
      "AES\n",
      "AET\n",
      "AMG\n",
      "AFL\n"
     ]
    }
   ],
   "source": [
    "if __name__ == '__main__':\n",
    "    stocks = []\n",
    "    cerebro = bt.Cerebro()\n",
    "    \n",
    "    with open(\"companies.txt\") as file_in:\n",
    "        for line in file_in:\n",
    "            print(line.strip('\\n'))"
   ]
  },
  {
   "cell_type": "code",
   "execution_count": null,
   "metadata": {},
   "outputs": [],
   "source": []
  }
 ],
 "metadata": {
  "kernelspec": {
   "display_name": "Python 3",
   "language": "python",
   "name": "python3"
  },
  "language_info": {
   "codemirror_mode": {
    "name": "ipython",
    "version": 3
   },
   "file_extension": ".py",
   "mimetype": "text/x-python",
   "name": "python",
   "nbconvert_exporter": "python",
   "pygments_lexer": "ipython3",
   "version": "3.8.3"
  }
 },
 "nbformat": 4,
 "nbformat_minor": 4
}

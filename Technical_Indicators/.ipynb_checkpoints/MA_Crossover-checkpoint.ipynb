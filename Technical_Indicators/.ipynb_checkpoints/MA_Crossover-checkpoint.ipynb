{
 "cells": [
  {
   "cell_type": "code",
   "execution_count": 1,
   "metadata": {},
   "outputs": [],
   "source": [
    "import yfinance as yf\n",
    "import matplotlib.pyplot as plt\n",
    "import datetime\n",
    "import pandas as pd"
   ]
  },
  {
   "cell_type": "code",
   "execution_count": 6,
   "metadata": {},
   "outputs": [],
   "source": [
    "class MovingAverageCrossover:\n",
    "    \n",
    "    def __init__(self, capital, stock, start, end, short_period, long_period):\n",
    "        self.data = None\n",
    "        self.is_long = False\n",
    "        self.short_period = short_period\n",
    "        self.long_period = long_period\n",
    "        self.capital = capital\n",
    "        self.equity = [capital]\n",
    "        self.stock = stock\n",
    "        self.start = start\n",
    "        self.end = end\n",
    "        \n",
    "    def download_data(self):\n",
    "        stock_data = {}\n",
    "        ticker = yf.download(self.stock, self.start, self.end)\n",
    "        stock_data['price'] = ticker['Adj Close']\n",
    "        self.data = pd.DataFrame(stock_data)"
   ]
  },
  {
   "cell_type": "code",
   "execution_count": 7,
   "metadata": {},
   "outputs": [
    {
     "name": "stdout",
     "output_type": "stream",
     "text": [
      "[*********************100%***********************]  1 of 1 completed\n",
      "                 price\n",
      "Date                  \n",
      "2010-01-04   91.506264\n",
      "2010-01-05   90.400902\n",
      "2010-01-06   89.813629\n",
      "2010-01-07   89.502716\n",
      "2010-01-08   90.400902\n",
      "...                ...\n",
      "2019-12-24  125.164146\n",
      "2019-12-26  125.099251\n",
      "2019-12-27  125.433052\n",
      "2019-12-30  123.151955\n",
      "2019-12-31  124.292496\n",
      "\n",
      "[2516 rows x 1 columns]\n"
     ]
    }
   ],
   "source": [
    "if __name__ == '__main__':\n",
    "    \n",
    "    start_date = datetime.datetime(2010, 1, 1)\n",
    "    end_date = datetime.datetime(2020, 1, 1)\n",
    "    \n",
    "    strategy = MovingAverageCrossover(100, 'IBM', start_date, end_date, 30, 50)\n",
    "    strategy.download_data()\n",
    "    print(strategy.data)"
   ]
  },
  {
   "cell_type": "code",
   "execution_count": null,
   "metadata": {},
   "outputs": [],
   "source": []
  }
 ],
 "metadata": {
  "kernelspec": {
   "display_name": "Python 3",
   "language": "python",
   "name": "python3"
  },
  "language_info": {
   "codemirror_mode": {
    "name": "ipython",
    "version": 3
   },
   "file_extension": ".py",
   "mimetype": "text/x-python",
   "name": "python",
   "nbconvert_exporter": "python",
   "pygments_lexer": "ipython3",
   "version": "3.8.3"
  }
 },
 "nbformat": 4,
 "nbformat_minor": 4
}

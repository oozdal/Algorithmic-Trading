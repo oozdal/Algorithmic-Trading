{
 "cells": [
  {
   "cell_type": "code",
   "execution_count": 1,
   "metadata": {},
   "outputs": [],
   "source": [
    "# Data extraction from stockrow.com\n",
    "\n",
    "import pandas as pd \n",
    "from enum import Enum"
   ]
  },
  {
   "cell_type": "code",
   "execution_count": 2,
   "metadata": {},
   "outputs": [],
   "source": [
    "tickers=[\"BA\",\"AAPL\"] #list of tickers whose data needs to be extracted\n",
    "path = \"/Users/oozdal/Documents/GitHub/Algorithmic Trading/Getting_Data/Financials\" # please create this folder in your local machine\n",
    "#Please also create subfolders Annual, Quartely and Trailing in your local machine"
   ]
  },
  {
   "cell_type": "code",
   "execution_count": 3,
   "metadata": {},
   "outputs": [],
   "source": [
    "financials = {}\n",
    "for ticker in tickers:\n",
    "    financials[ticker] = {\"Balance_Sheet\":pd.DataFrame(),\n",
    "                          \"Income_Statement\":pd.DataFrame(),\n",
    "                          \"CashFlow\":pd.DataFrame()}"
   ]
  },
  {
   "cell_type": "code",
   "execution_count": 4,
   "metadata": {},
   "outputs": [],
   "source": [
    "class Financials(Enum):\n",
    "    \n",
    "    Income_Statement = 1\n",
    "    Balance_Sheet = 2\n",
    "    CashFlow = 3\n",
    "    Key_Metrics=4\n",
    "    Growth=5\n",
    "\n",
    "class Terms(Enum):\n",
    "    Quarterly=1\n",
    "    Annual=2\n",
    "    Trailing=3"
   ]
  },
  {
   "cell_type": "code",
   "execution_count": 8,
   "metadata": {},
   "outputs": [],
   "source": [
    "def FinFun(ticker,Fin,Term):\n",
    "    \"\"\"Please create subfolders Annual, Quartely and Trailing in your local machine\"\"\"\n",
    "    link = \"Income%20Statement\"\n",
    "    if Fin==Financials.Income_Statement:\n",
    "        link = \"Income%20Statement\"\n",
    "    elif Fin==Financials.Balance_Sheet:\n",
    "        link = \"Balance%20Sheet\"\n",
    "    elif Fin==Financials.CashFlow:\n",
    "        link = \"Cash%20Flow\"\n",
    "    elif Fin==Financials.Key_Metrics:\n",
    "        link = \"Metric\"\n",
    "    elif Fin==Financials.Growth:\n",
    "        link = \"Growth\"\n",
    "    \n",
    "    if Term==Terms.Annual:\n",
    "        URL=\"https://stockrow.com/api/companies/\"+ticker+\"/financials.xlsx?dimension=A&section=\"+link+\"&sort=desc\"\n",
    "        \n",
    "        filename= path+\"/Annual/\"+\"{}-Ann-{}.csv\".format(link,ticker)\n",
    "        return URL, filename\n",
    "    \n",
    "    elif Term==Terms.Quarterly:\n",
    "        URL=\"https://stockrow.com/api/companies/\"+ticker+\"/financials.xlsx?dimension=Q&section=\"+link+\"&sort=desc\"\n",
    "                 \n",
    "        filename= path+\"/Quarterly/\"+\"{}-Qtr-{}.csv\".format(link,ticker)\n",
    "        return URL, filename   \n",
    "    \n",
    "\n",
    "    elif Term==Terms.Trailing:\n",
    "        URL=\"https://stockrow.com/api/companies/\"+ticker+\"/financials.xlsx?dimension=T&section=\"+link+\"&sort=desc\"\n",
    "     \n",
    "        filename= path+\"/Trailing/\"+\"{}-ttm-{}.csv\".format(link,ticker)\n",
    "        return URL, filename"
   ]
  },
  {
   "cell_type": "code",
   "execution_count": 6,
   "metadata": {},
   "outputs": [],
   "source": [
    "def Download_data(ticker,Fin,Term):        \n",
    "    \n",
    "    global financials\n",
    "    URL,filename= FinFun(ticker ,Fin,Term)\n",
    "    print(\" Download \"+ str(Fin) +\" for stock: \" + ticker + \" terms : \" +str(Term) )\n",
    "\n",
    "    df= pd.read_excel(URL)\n",
    "    df.rename(columns={'Unnamed: 0':'Items'}, inplace=True)\n",
    "    df.set_index(\"Items\",inplace=True)\n",
    "    df.columns = pd.to_datetime(df.columns).date\n",
    "    df.to_csv(filename,index=True)\n",
    "    financials[ticker][str(Fin).split(\".\")[-1]] = df"
   ]
  },
  {
   "cell_type": "code",
   "execution_count": 9,
   "metadata": {},
   "outputs": [
    {
     "name": "stdout",
     "output_type": "stream",
     "text": [
      " Download Financials.Balance_Sheet for stock: BA terms : Terms.Annual\n",
      " Download Financials.Income_Statement for stock: BA terms : Terms.Annual\n",
      " Download Financials.CashFlow for stock: BA terms : Terms.Annual\n",
      " Download Financials.Balance_Sheet for stock: AAPL terms : Terms.Annual\n",
      " Download Financials.Income_Statement for stock: AAPL terms : Terms.Annual\n",
      " Download Financials.CashFlow for stock: AAPL terms : Terms.Annual\n"
     ]
    }
   ],
   "source": [
    "for ticker in tickers:\n",
    "    Download_data(ticker ,Financials.Balance_Sheet,Terms.Annual)\n",
    "    Download_data(ticker ,Financials.Income_Statement,Terms.Annual)\n",
    "    Download_data(ticker ,Financials.CashFlow,Terms.Annual)"
   ]
  },
  {
   "cell_type": "code",
   "execution_count": null,
   "metadata": {},
   "outputs": [],
   "source": []
  }
 ],
 "metadata": {
  "kernelspec": {
   "display_name": "Python 3",
   "language": "python",
   "name": "python3"
  },
  "language_info": {
   "codemirror_mode": {
    "name": "ipython",
    "version": 3
   },
   "file_extension": ".py",
   "mimetype": "text/x-python",
   "name": "python",
   "nbconvert_exporter": "python",
   "pygments_lexer": "ipython3",
   "version": "3.8.3"
  }
 },
 "nbformat": 4,
 "nbformat_minor": 4
}

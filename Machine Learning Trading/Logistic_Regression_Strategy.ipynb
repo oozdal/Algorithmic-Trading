{
 "cells": [
  {
   "cell_type": "markdown",
   "metadata": {},
   "source": [
    "# Logistic regression strategy implementation"
   ]
  },
  {
   "cell_type": "code",
   "execution_count": 3,
   "metadata": {},
   "outputs": [],
   "source": [
    "import numpy as np\n",
    "from sklearn.linear_model import LogisticRegression\n",
    "from sklearn.metrics import confusion_matrix\n",
    "from sklearn.model_selection import train_test_split\n",
    "from sklearn.metrics import accuracy_score\n",
    "import datetime\n",
    "import pandas as pd\n",
    "import yfinance as yf"
   ]
  },
  {
   "cell_type": "code",
   "execution_count": 4,
   "metadata": {},
   "outputs": [],
   "source": [
    "def download_data(stock, start, end):\n",
    "    data = {}\n",
    "    ticker = yf.download(stock, start, end)\n",
    "    data['Close'] = ticker['Adj Close']\n",
    "    return pd.DataFrame(data)"
   ]
  },
  {
   "cell_type": "code",
   "execution_count": 18,
   "metadata": {},
   "outputs": [],
   "source": [
    "def construct_features(data, lags=2):\n",
    "    \n",
    "    # calculate the lagged adjusted closing prices (name = Close)\n",
    "    for i in range(0, lags):\n",
    "        data['Lag%s' % str(i+1)] = data['Close'].shift(i+1)\n",
    "    \n",
    "    # calculate the percent of actual changes\n",
    "    data['Today Change'] = data['Close']\n",
    "    data['Today Change'] = data['Today Change'].pct_change() * 100\n",
    "    \n",
    "    # calculate the lags in percentage (normalization)\n",
    "    for i in range(0, lags):\n",
    "        data['Lag%s' % str(i+1)] = data['Lag%s' % str(i+1)].pct_change() * 100\n",
    "        \n",
    "    # direction - the target variable\n",
    "    data['Direction'] =  np.where(data['Today Change'] > 0, 1, -1)"
   ]
  },
  {
   "cell_type": "code",
   "execution_count": 46,
   "metadata": {},
   "outputs": [
    {
     "name": "stdout",
     "output_type": "stream",
     "text": [
      "[*********************100%***********************]  1 of 1 completed\n",
      "Accuracy of the model: 0.65\n",
      "[[ 8  3]\n",
      " [23 41]]\n"
     ]
    }
   ],
   "source": [
    "if __name__ == '__main__':\n",
    "    start_date = datetime.datetime(2017, 1, 1)\n",
    "    end_date   = datetime.datetime(2018, 1, 1)\n",
    "    \n",
    "    stock_data = download_data('AMZN', start_date, end_date)\n",
    "    construct_features(stock_data)\n",
    "    stock_data = stock_data.dropna()\n",
    "    \n",
    "    # features and the labels (target variables)\n",
    "    X = stock_data[['Lag1', 'Lag2']]\n",
    "    y = stock_data['Direction']\n",
    "    \n",
    "    # split the data into training and test data (70% -  30%)\n",
    "    X_train, X_test, y_train, y_test = train_test_split(X, y, test_size=0.3)\n",
    "    \n",
    "    # training the model on the training set\n",
    "    model = LogisticRegression()\n",
    "    model.fit(X_train, y_train)\n",
    "    \n",
    "    # test the model on the test set\n",
    "    predictions = model.predict(X_test)\n",
    "    \n",
    "    print('Accuracy of the model: %.2f' % accuracy_score(y_test, predictions))\n",
    "    print(confusion_matrix(predictions, y_test))"
   ]
  },
  {
   "cell_type": "raw",
   "metadata": {},
   "source": [
    "# Logistic regression is not going to work that fine.\n",
    "# Try support vector classifiers!.."
   ]
  },
  {
   "cell_type": "code",
   "execution_count": null,
   "metadata": {},
   "outputs": [],
   "source": []
  }
 ],
 "metadata": {
  "kernelspec": {
   "display_name": "Python 3",
   "language": "python",
   "name": "python3"
  },
  "language_info": {
   "codemirror_mode": {
    "name": "ipython",
    "version": 3
   },
   "file_extension": ".py",
   "mimetype": "text/x-python",
   "name": "python",
   "nbconvert_exporter": "python",
   "pygments_lexer": "ipython3",
   "version": "3.8.3"
  }
 },
 "nbformat": 4,
 "nbformat_minor": 4
}

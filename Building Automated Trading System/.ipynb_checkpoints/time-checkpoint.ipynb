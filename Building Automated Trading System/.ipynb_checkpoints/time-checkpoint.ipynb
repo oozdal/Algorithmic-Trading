{
 "cells": [
  {
   "cell_type": "code",
   "execution_count": 21,
   "metadata": {},
   "outputs": [],
   "source": [
    "# python time module\n",
    "\n",
    "import time\n",
    "import numpy as np"
   ]
  },
  {
   "cell_type": "code",
   "execution_count": 22,
   "metadata": {},
   "outputs": [],
   "source": [
    "def fibonacci(n):\n",
    "   \"\"\"Recursive function to print nth Fibonacci number\"\"\"\n",
    "   if n <= 1:\n",
    "       return n\n",
    "   else:\n",
    "       return(fibonacci(n-1) + fibonacci(n-2))\n",
    "\n",
    "def main():\n",
    "    num = np.random.randint(1,25)\n",
    "    print(\"%dth fibonacci number is : %d\"%(num,fibonacci(num)))"
   ]
  },
  {
   "cell_type": "code",
   "execution_count": 23,
   "metadata": {},
   "outputs": [],
   "source": [
    "# Continuous execution        \n",
    "starttime=time.time()\n",
    "timeout = time.time() + 60*2  # 60 seconds times 2 meaning the script will run for 2 minutes"
   ]
  },
  {
   "cell_type": "code",
   "execution_count": 24,
   "metadata": {},
   "outputs": [
    {
     "name": "stdout",
     "output_type": "stream",
     "text": [
      "19th fibonacci number is : 4181\n",
      "24th fibonacci number is : 46368\n",
      "1th fibonacci number is : 1\n",
      "20th fibonacci number is : 6765\n",
      "9th fibonacci number is : 34\n",
      "3th fibonacci number is : 2\n",
      "3th fibonacci number is : 2\n",
      "18th fibonacci number is : 2584\n",
      "2th fibonacci number is : 1\n",
      "10th fibonacci number is : 55\n",
      "17th fibonacci number is : 1597\n",
      "7th fibonacci number is : 13\n",
      "19th fibonacci number is : 4181\n",
      "17th fibonacci number is : 1597\n",
      "3th fibonacci number is : 2\n",
      "18th fibonacci number is : 2584\n",
      "21th fibonacci number is : 10946\n",
      "12th fibonacci number is : 144\n",
      "3th fibonacci number is : 2\n",
      "22th fibonacci number is : 17711\n",
      "13th fibonacci number is : 233\n",
      "24th fibonacci number is : 46368\n",
      "18th fibonacci number is : 2584\n",
      "20th fibonacci number is : 6765\n"
     ]
    }
   ],
   "source": [
    "while time.time() <= timeout:\n",
    "    try:\n",
    "        main()\n",
    "        time.sleep(5 - ((time.time() - starttime) % 5.0)) \n",
    "    except KeyboardInterrupt:\n",
    "        print('\\n\\nKeyboard exception received. Exiting.')\n",
    "        exit()"
   ]
  },
  {
   "cell_type": "code",
   "execution_count": 25,
   "metadata": {},
   "outputs": [],
   "source": [
    "# Continuous execution        \n",
    "starttime=time.time()\n",
    "timeout = time.time() + 30 # the script will run for 30 seconds"
   ]
  },
  {
   "cell_type": "code",
   "execution_count": 26,
   "metadata": {},
   "outputs": [
    {
     "name": "stdout",
     "output_type": "stream",
     "text": [
      "6th fibonacci number is : 8\n",
      "3th fibonacci number is : 2\n",
      "20th fibonacci number is : 6765\n",
      "11th fibonacci number is : 89\n",
      "16th fibonacci number is : 987\n",
      "19th fibonacci number is : 4181\n"
     ]
    }
   ],
   "source": [
    "while time.time() <= timeout:\n",
    "    try:\n",
    "        main()\n",
    "        time.sleep(5)  # 5 seconds interval between each new iteration\n",
    "    except KeyboardInterrupt:\n",
    "        print('\\n\\nKeyboard exception received. Exiting.')\n",
    "        exit()"
   ]
  },
  {
   "cell_type": "code",
   "execution_count": 27,
   "metadata": {},
   "outputs": [
    {
     "data": {
      "text/plain": [
       "4.878745794296265"
      ]
     },
     "execution_count": 27,
     "metadata": {},
     "output_type": "execute_result"
    }
   ],
   "source": [
    "5 - ((time.time() - starttime) % 5.0)"
   ]
  },
  {
   "cell_type": "code",
   "execution_count": 28,
   "metadata": {},
   "outputs": [
    {
     "data": {
      "text/plain": [
       "4.830260992050171"
      ]
     },
     "execution_count": 28,
     "metadata": {},
     "output_type": "execute_result"
    }
   ],
   "source": [
    "5 - ((time.time() - starttime) % 5.0)"
   ]
  },
  {
   "cell_type": "code",
   "execution_count": 29,
   "metadata": {},
   "outputs": [
    {
     "name": "stdout",
     "output_type": "stream",
     "text": [
      "0.00028324127197265625\n",
      "5.011893033981323\n",
      "10.013291120529175\n",
      "15.014989137649536\n",
      "20.015335083007812\n",
      "25.01768922805786\n",
      "30.02165913581848\n",
      "35.023715019226074\n",
      "40.028823137283325\n",
      "45.03197526931763\n",
      "50.034590005874634\n",
      "55.04429006576538\n",
      "60.044723987579346\n",
      "65.04838395118713\n",
      "70.05280613899231\n",
      "75.05561709403992\n",
      "80.05827522277832\n",
      "85.05906820297241\n",
      "90.06048202514648\n",
      "95.06217908859253\n",
      "100.06438708305359\n",
      "105.06845617294312\n",
      "110.07154107093811\n",
      "115.0724139213562\n"
     ]
    }
   ],
   "source": [
    "starttime=time.time()\n",
    "timeout = time.time() + 60*2  # 60 seconds times 2 meaning the script will run for 2 minutes\n",
    "\n",
    "while time.time() <= timeout:\n",
    "    elapsed_time = time.time() - starttime\n",
    "    print(elapsed_time)\n",
    "    time.sleep(5)  # 5 seconds interval between each new iteration"
   ]
  },
  {
   "cell_type": "code",
   "execution_count": null,
   "metadata": {},
   "outputs": [],
   "source": []
  }
 ],
 "metadata": {
  "kernelspec": {
   "display_name": "Python 3",
   "language": "python",
   "name": "python3"
  },
  "language_info": {
   "codemirror_mode": {
    "name": "ipython",
    "version": 3
   },
   "file_extension": ".py",
   "mimetype": "text/x-python",
   "name": "python",
   "nbconvert_exporter": "python",
   "pygments_lexer": "ipython3",
   "version": "3.8.3"
  }
 },
 "nbformat": 4,
 "nbformat_minor": 4
}

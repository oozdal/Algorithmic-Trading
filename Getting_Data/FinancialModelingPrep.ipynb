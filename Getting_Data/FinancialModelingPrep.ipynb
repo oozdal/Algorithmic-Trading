{
 "cells": [
  {
   "cell_type": "code",
   "execution_count": 10,
   "metadata": {},
   "outputs": [],
   "source": [
    "# Getting fundamental data from financialmodelingprep.com\n",
    "\n",
    "import requests\n",
    "import pandas as pd"
   ]
  },
  {
   "cell_type": "code",
   "execution_count": 38,
   "metadata": {},
   "outputs": [],
   "source": [
    "link = \"https://financialmodelingprep.com/api/v3\"\n",
    "api_key = \"d2a50039d63f30de9d28b7c8d5b92fbe\"  # generate you free API key and paste it here\n",
    "tickers = [\"AXP\"]  # American Express Co"
   ]
  },
  {
   "cell_type": "code",
   "execution_count": 39,
   "metadata": {},
   "outputs": [],
   "source": [
    "#list of tickers whose financial data needs to be extracted\n",
    "financial_dir = {}"
   ]
  },
  {
   "cell_type": "code",
   "execution_count": 40,
   "metadata": {},
   "outputs": [],
   "source": [
    "for ticker in tickers:\n",
    "    try:\n",
    "    #getting balance sheet data\n",
    "        temp_dir = {}\n",
    "        url = link+\"/balance-sheet-statement/\"+ticker+\"?apikey={}\".format(api_key)\n",
    "        page = requests.get(url)\n",
    "        fin_dir = page.json()\n",
    "        for key,value in fin_dir[0].items():\n",
    "            temp_dir[key] = value\n",
    "    #getting income statement data\n",
    "        url = link+\"/income-statement/\"+ticker+\"?apikey={}\".format(api_key)\n",
    "        page = requests.get(url)\n",
    "        fin_dir = page.json()\n",
    "        for key,value in fin_dir[0].items():\n",
    "            if key not in temp_dir.keys():\n",
    "                temp_dir[key] = value\n",
    "    #getting cashflow statement data\n",
    "        url = link+\"/cash-flow-statement/\"+ticker+\"?apikey={}\".format(api_key)\n",
    "        page = requests.get(url)\n",
    "        fin_dir = page.json()\n",
    "        for key,value in fin_dir[0].items():\n",
    "            if key not in temp_dir.keys():\n",
    "                temp_dir[key] = value\n",
    "    #getting EV data\n",
    "        url = link+\"/enterprise-value/\"+ticker+\"?apikey={}\".format(api_key)\n",
    "        page = requests.get(url)\n",
    "        fin_dir = page.json()\n",
    "        for key,value in fin_dir[\"enterpriseValues\"][0].items():\n",
    "            if key not in temp_dir.keys():\n",
    "                temp_dir[key] = value\n",
    "    #getting key statistic data\n",
    "        url = link+\"/company-key-metrics/\"+ticker+\"?apikey={}\".format(api_key)\n",
    "        page = requests.get(url)\n",
    "        fin_dir = page.json()\n",
    "        for key,value in fin_dir[\"metrics\"][0].items():\n",
    "            if key not in temp_dir.keys():\n",
    "                temp_dir[key] = value\n",
    "        \n",
    "    #combining all extracted information with the corresponding ticker\n",
    "        financial_dir[ticker] = temp_dir\n",
    "        \n",
    "    except Exception as e:\n",
    "        print(e)  "
   ]
  },
  {
   "cell_type": "code",
   "execution_count": 41,
   "metadata": {},
   "outputs": [],
   "source": [
    "#storing information in pandas dataframe\n",
    "combined_financials = pd.DataFrame(financial_dir)"
   ]
  },
  {
   "cell_type": "code",
   "execution_count": 48,
   "metadata": {},
   "outputs": [
    {
     "data": {
      "text/html": [
       "<div>\n",
       "<style scoped>\n",
       "    .dataframe tbody tr th:only-of-type {\n",
       "        vertical-align: middle;\n",
       "    }\n",
       "\n",
       "    .dataframe tbody tr th {\n",
       "        vertical-align: top;\n",
       "    }\n",
       "\n",
       "    .dataframe thead th {\n",
       "        text-align: right;\n",
       "    }\n",
       "</style>\n",
       "<table border=\"1\" class=\"dataframe\">\n",
       "  <thead>\n",
       "    <tr style=\"text-align: right;\">\n",
       "      <th></th>\n",
       "      <th>AXP</th>\n",
       "    </tr>\n",
       "  </thead>\n",
       "  <tbody>\n",
       "    <tr>\n",
       "      <th>+ Total Debt</th>\n",
       "      <td>5.781e+10</td>\n",
       "    </tr>\n",
       "    <tr>\n",
       "      <th>- Cash &amp; Cash Equivalents</th>\n",
       "      <td>2.3932e+10</td>\n",
       "    </tr>\n",
       "    <tr>\n",
       "      <th>Average Inventory</th>\n",
       "      <td></td>\n",
       "    </tr>\n",
       "    <tr>\n",
       "      <th>Average Payables</th>\n",
       "      <td>1.24965E10</td>\n",
       "    </tr>\n",
       "    <tr>\n",
       "      <th>Average Receivables</th>\n",
       "      <td>5.75105E10</td>\n",
       "    </tr>\n",
       "    <tr>\n",
       "      <th>...</th>\n",
       "      <td>...</td>\n",
       "    </tr>\n",
       "    <tr>\n",
       "      <th>totalNonCurrentLiabilities</th>\n",
       "      <td>42952000000</td>\n",
       "    </tr>\n",
       "    <tr>\n",
       "      <th>totalOtherIncomeExpensesNet</th>\n",
       "      <td>0</td>\n",
       "    </tr>\n",
       "    <tr>\n",
       "      <th>totalStockholdersEquity</th>\n",
       "      <td>22984000000</td>\n",
       "    </tr>\n",
       "    <tr>\n",
       "      <th>weightedAverageShsOut</th>\n",
       "      <td>828000000</td>\n",
       "    </tr>\n",
       "    <tr>\n",
       "      <th>weightedAverageShsOutDil</th>\n",
       "      <td>828000000</td>\n",
       "    </tr>\n",
       "  </tbody>\n",
       "</table>\n",
       "<p>162 rows × 1 columns</p>\n",
       "</div>"
      ],
      "text/plain": [
       "                                     AXP\n",
       "+ Total Debt                   5.781e+10\n",
       "- Cash & Cash Equivalents     2.3932e+10\n",
       "Average Inventory                       \n",
       "Average Payables              1.24965E10\n",
       "Average Receivables           5.75105E10\n",
       "...                                  ...\n",
       "totalNonCurrentLiabilities   42952000000\n",
       "totalOtherIncomeExpensesNet            0\n",
       "totalStockholdersEquity      22984000000\n",
       "weightedAverageShsOut          828000000\n",
       "weightedAverageShsOutDil       828000000\n",
       "\n",
       "[162 rows x 1 columns]"
      ]
     },
     "execution_count": 48,
     "metadata": {},
     "output_type": "execute_result"
    }
   ],
   "source": [
    "combined_financials"
   ]
  },
  {
   "cell_type": "code",
   "execution_count": null,
   "metadata": {},
   "outputs": [],
   "source": []
  },
  {
   "cell_type": "code",
   "execution_count": null,
   "metadata": {},
   "outputs": [],
   "source": []
  }
 ],
 "metadata": {
  "kernelspec": {
   "display_name": "Python 3",
   "language": "python",
   "name": "python3"
  },
  "language_info": {
   "codemirror_mode": {
    "name": "ipython",
    "version": 3
   },
   "file_extension": ".py",
   "mimetype": "text/x-python",
   "name": "python",
   "nbconvert_exporter": "python",
   "pygments_lexer": "ipython3",
   "version": "3.8.3"
  }
 },
 "nbformat": 4,
 "nbformat_minor": 4
}

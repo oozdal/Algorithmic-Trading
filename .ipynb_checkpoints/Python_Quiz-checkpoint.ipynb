{
 "cells": [
  {
   "cell_type": "markdown",
   "id": "7c0f1857-cbec-4e7d-a5a3-ea73eb23aec9",
   "metadata": {},
   "source": [
    "Write a Python program to calculate the maximum profit from selling and buying values of stock. \n",
    "An array of numbers represent the stock prices in chronological order.\n",
    "For example, given [8, 10, 7, 5, 7, 15], the function will return 10, since the buying value of the stock is 5 dollars and sell value is 15 dollars."
   ]
  },
  {
   "cell_type": "code",
   "execution_count": 29,
   "id": "c5fc5d97-634d-4a95-9ee1-f09e449058be",
   "metadata": {},
   "outputs": [],
   "source": [
    "def buy_and_sell(stock_price):\n",
    "    max_profit_val, current_max_val = 0, 0 \n",
    "    for price in reversed(stock_price):                       \n",
    "        current_max_val = max(current_max_val, price)          \n",
    "        potential_profit = current_max_val - price          \n",
    "        max_profit_val = max(potential_profit, max_profit_val)\n",
    "\n",
    "    return max_profit_val"
   ]
  },
  {
   "cell_type": "code",
   "execution_count": 28,
   "id": "aa754e21-3eb2-449a-b772-d9b008f6d1e3",
   "metadata": {},
   "outputs": [
    {
     "name": "stdout",
     "output_type": "stream",
     "text": [
      "10\n"
     ]
    }
   ],
   "source": [
    "print(buy_and_sell([8, 10, 7, 5, 7, 15]))"
   ]
  },
  {
   "cell_type": "code",
   "execution_count": 30,
   "id": "a293df9f-3237-45d1-bc6f-0dbaf1e6be31",
   "metadata": {},
   "outputs": [
    {
     "name": "stdout",
     "output_type": "stream",
     "text": [
      "7\n"
     ]
    }
   ],
   "source": [
    "print(buy_and_sell([1, 2, 8, 1]))"
   ]
  },
  {
   "cell_type": "code",
   "execution_count": 31,
   "id": "15c98d86-96e6-4957-9a78-67f4e91dddcd",
   "metadata": {},
   "outputs": [
    {
     "name": "stdout",
     "output_type": "stream",
     "text": [
      "0\n"
     ]
    }
   ],
   "source": [
    "print(buy_and_sell([]))"
   ]
  },
  {
   "cell_type": "markdown",
   "id": "703040b9-6897-4daa-9461-15045e982cc4",
   "metadata": {},
   "source": [
    "# Alternative Solution"
   ]
  },
  {
   "cell_type": "markdown",
   "id": "3c975139-77b4-450b-aaa0-f1cbb12510d5",
   "metadata": {},
   "source": [
    "Maximum difference between two elements such that larger element appears after the smaller number"
   ]
  },
  {
   "cell_type": "code",
   "execution_count": 46,
   "id": "484989b2-0008-4ab3-aacc-ea017ffc9852",
   "metadata": {},
   "outputs": [],
   "source": [
    "def maxDiff(arr, arr_size):\n",
    "    max_diff = arr[1] - arr[0]\n",
    "     \n",
    "    for i in range( 0, arr_size ):\n",
    "        for j in range( i+1, arr_size ):\n",
    "            if(arr[j] - arr[i] > max_diff):\n",
    "                max_diff = arr[j] - arr[i]\n",
    "     \n",
    "    return max_diff"
   ]
  },
  {
   "cell_type": "code",
   "execution_count": 49,
   "id": "c8a2918a-854e-4142-a69c-123e3cf7f4e5",
   "metadata": {},
   "outputs": [
    {
     "name": "stdout",
     "output_type": "stream",
     "text": [
      "Maximum profit is 109\n"
     ]
    }
   ],
   "source": [
    "arr = [1, 2, 90, 10, 110]\n",
    "size = len(arr)\n",
    "print (\"Maximum profit is\", maxDiff(arr, size))"
   ]
  },
  {
   "cell_type": "code",
   "execution_count": 51,
   "id": "f50db4bf-a83b-4638-a0a1-bf279e33ef95",
   "metadata": {},
   "outputs": [
    {
     "name": "stdout",
     "output_type": "stream",
     "text": [
      "Maximum profit is 7\n"
     ]
    }
   ],
   "source": [
    "arr = [1, 2, 8, 1]\n",
    "size = len(arr)\n",
    "print (\"Maximum profit is\", maxDiff(arr, size))"
   ]
  },
  {
   "cell_type": "code",
   "execution_count": 53,
   "id": "d81497f1-b49a-49a7-8451-993b150a1f0c",
   "metadata": {},
   "outputs": [
    {
     "name": "stdout",
     "output_type": "stream",
     "text": [
      "Maximum profit is 10\n"
     ]
    }
   ],
   "source": [
    "arr = [8, 10, 7, 5, 7, 15]\n",
    "size = len(arr)\n",
    "print (\"Maximum profit is\", maxDiff(arr, size))"
   ]
  },
  {
   "cell_type": "code",
   "execution_count": null,
   "id": "a96aa1ff-3547-4975-8d8d-d4aec18068b6",
   "metadata": {},
   "outputs": [],
   "source": []
  }
 ],
 "metadata": {
  "kernelspec": {
   "display_name": "Python 3",
   "language": "python",
   "name": "python3"
  },
  "language_info": {
   "codemirror_mode": {
    "name": "ipython",
    "version": 3
   },
   "file_extension": ".py",
   "mimetype": "text/x-python",
   "name": "python",
   "nbconvert_exporter": "python",
   "pygments_lexer": "ipython3",
   "version": "3.8.8"
  }
 },
 "nbformat": 4,
 "nbformat_minor": 5
}

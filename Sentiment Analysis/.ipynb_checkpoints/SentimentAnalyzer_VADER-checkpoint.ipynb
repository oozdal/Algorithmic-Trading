{
 "cells": [
  {
   "cell_type": "code",
   "execution_count": 1,
   "metadata": {},
   "outputs": [],
   "source": [
    "# Web scraping crude oil news and using VADER for sentiment analysis\n",
    "\n",
    "# import necessary libraries\n",
    "import requests\n",
    "from bs4 import BeautifulSoup\n",
    "import pandas as pd\n",
    "from vaderSentiment.vaderSentiment import SentimentIntensityAnalyzer"
   ]
  },
  {
   "cell_type": "code",
   "execution_count": 2,
   "metadata": {},
   "outputs": [],
   "source": [
    "# Create lists to store scraped news urls, headlines and text\n",
    "url_list = []\n",
    "date_time = []\n",
    "news_text = []\n",
    "headlines = []"
   ]
  },
  {
   "cell_type": "code",
   "execution_count": 4,
   "metadata": {},
   "outputs": [
    {
     "data": {
      "text/plain": [
       "['https://oilprice.com/Energy/Crude-Oil/The-IEAs-Latest-Proposal-Is-Both-Reckless-And-Impossible.html',\n",
       " 'https://oilprice.com/Energy/Crude-Oil/Colombias-Oil-Industry-Is-On-The-Brink-Of-Collapse.html',\n",
       " 'https://oilprice.com/Energy/Crude-Oil/IEA-Net-Zero-Goal-Means-No-More-New-Oil-And-Gas-Investment-Ever.html',\n",
       " 'https://oilprice.com/Energy/Crude-Oil/Why-A-Shale-Comeback-Could-Be-Disastrous-For-Oil-Markets.html',\n",
       " 'https://oilprice.com/Energy/Crude-Oil/Oil-Markets-Will-Face-A-Supply-Crisis-Before-Demand-Peaks.html',\n",
       " 'https://oilprice.com/Energy/Crude-Oil/OPECs-Oil-Exports-Are-Surging-By-1-Million-Bpd-In-May.html',\n",
       " 'https://oilprice.com/Energy/Crude-Oil/India-Oil-Demand-Slumps-By-20-In-May-Amid-COVID-Crisis.html',\n",
       " 'https://oilprice.com/Energy/Crude-Oil/Russia-Has-Oil-Reserves-At-Least-Until-2080.html',\n",
       " 'https://oilprice.com/Energy/Crude-Oil/Can-Canada-Boost-Oil-Production-While-Reducing-Emissions.html',\n",
       " 'https://oilprice.com/Energy/Crude-Oil/Middle-East-Oil-Producers-Race-To-Pump-Crude-And-Sell-Assets.html',\n",
       " 'https://oilprice.com/Energy/Crude-Oil/Can-Libyas-Oil-Industry-Make-A-Comeback-In-2021.html',\n",
       " 'https://oilprice.com/Energy/Crude-Oil/OPEC-Continues-To-See-Strong-Oil-Demand-Recovery-In-2021.html',\n",
       " 'https://oilprice.com/Energy/Crude-Oil/OPECs-Production-Increases-As-Iran-Ramps-Up-Output.html',\n",
       " 'https://oilprice.com/Energy/Crude-Oil/Hedge-Funds-Increase-Bullish-Bets-On-Oil.html',\n",
       " 'https://oilprice.com/Energy/Crude-Oil/Chinese-Oil-Imports-Dropped-11-In-April.html',\n",
       " 'https://oilprice.com/Energy/Crude-Oil/The-Only-Venue-Where-Oil-Majors-Will-Still-Spend-Big.html',\n",
       " 'https://oilprice.com/Energy/Crude-Oil/Mozambique-Delays-Could-Disrupt-Global-LNG-Market.html',\n",
       " 'https://oilprice.com/Energy/Crude-Oil/Oil-Moves-Higher-On-Largest-Crude-Draw-Since-January.html',\n",
       " 'https://oilprice.com/Energy/Crude-Oil/OPEC-Output-Flat-Ahead-Of-Planned-600000-Bpd-Boost.html',\n",
       " 'https://oilprice.com/Energy/Crude-Oil/Oil-Investment-Lags-Jump-In-Crude-Prices.html',\n",
       " 'https://oilprice.com/Energy/Crude-Oil/Africas-Most-Interesting-Untapped-Oil-Play.html',\n",
       " 'https://oilprice.com/Energy/Crude-Oil/Canada-Is-Battling-Another-Pipeline-Cancelation-By-The-US.html',\n",
       " 'https://oilprice.com/Energy/Crude-Oil/What-Will-Privatization-Mean-For-Indias-Burgeoning-Oil-Industry.html',\n",
       " 'https://oilprice.com/Energy/Crude-Oil/Canadas-Oil-Patch-Is-Preparing-For-A-Production-Hike.html',\n",
       " 'https://oilprice.com/Energy/Crude-Oil/The-Great-Car-Comeback-Brightens-Oil-Demand-Outlook.html',\n",
       " 'https://oilprice.com/Energy/Crude-Oil/When-Will-Oil-Demand-Fully-Recover.html',\n",
       " 'https://oilprice.com/Energy/Crude-Oil/Rystad-Energy-Indias-COVID-Crisis-Could-Result-In-Global-Oil-Glut.html',\n",
       " 'https://oilprice.com/Energy/Crude-Oil/India-COVID-Crisis-Could-Slow-Global-Oil-Demand-Rebound.html',\n",
       " 'https://oilprice.com/Energy/Crude-Oil/Three-Things-That-Will-Drive-Oil-Prices-In-May.html',\n",
       " 'https://oilprice.com/Energy/Crude-Oil/Oil-Theft-Is-A-Major-Problem-In-Latin-America.html',\n",
       " 'https://oilprice.com/Energy/Crude-Oil/Oil-Prices-Rally-Despite-Bearish-Backlash.html',\n",
       " 'https://oilprice.com/Energy/Crude-Oil/European-Oil-Majors-Out-Traded-US-Peers-In-2020.html',\n",
       " 'https://oilprice.com/Energy/Crude-Oil/Is-Californias-Fracking-Ban-A-Big-Deal-For-The-Oil-Industry.html',\n",
       " 'https://oilprice.com/Energy/Crude-Oil/The-5-Most-Influential-Oil-Companies-In-The-World.html',\n",
       " 'https://oilprice.com/Energy/Crude-Oil/Suriname-Hopes-To-Become-South-Americas-Newest-Oil-Exporter.html',\n",
       " 'https://oilprice.com/Energy/Crude-Oil/Libyan-Oil-Production-Surprise-Puts-Pressure-On-Prices.html',\n",
       " 'https://oilprice.com/Energy/Crude-Oil/Libyas-Oil-Production-Set-To-Recover-As-Force-Majeure-Is-Lifted.html',\n",
       " 'https://oilprice.com/Energy/Crude-Oil/Energy-Transition-Could-Doom-Africas-Oil-Producers.html',\n",
       " 'https://oilprice.com/Energy/Crude-Oil/Canadas-Oil-And-Gas-Industry-Must-Innovate-To-Survive.html',\n",
       " 'https://oilprice.com/Energy/Crude-Oil/Has-Polands-Energy-Diversification-Drive-Paid-Off.html']"
      ]
     },
     "execution_count": 4,
     "metadata": {},
     "output_type": "execute_result"
    }
   ],
   "source": [
    "for i in range(1,3): #parameters of range function correspond to page numbers in the website with news listings\n",
    "    #get the list of unique urls in the page\n",
    "    url = 'https://oilprice.com/Energy/Crude-Oil/Page-{}.html'.format(i)\n",
    "    request = requests.get(url)\n",
    "    soup = BeautifulSoup(request.text, \"html.parser\")\n",
    "    for links in soup.find_all('div', {'class': 'categoryArticle'}):\n",
    "        for info in links.find_all('a'):\n",
    "            if info.get('href') not in url_list:\n",
    "                url_list.append(info.get('href'))\n",
    "                \n",
    "url_list"
   ]
  },
  {
   "cell_type": "code",
   "execution_count": null,
   "metadata": {},
   "outputs": [],
   "source": []
  }
 ],
 "metadata": {
  "kernelspec": {
   "display_name": "Python 3",
   "language": "python",
   "name": "python3"
  },
  "language_info": {
   "codemirror_mode": {
    "name": "ipython",
    "version": 3
   },
   "file_extension": ".py",
   "mimetype": "text/x-python",
   "name": "python",
   "nbconvert_exporter": "python",
   "pygments_lexer": "ipython3",
   "version": "3.8.3"
  }
 },
 "nbformat": 4,
 "nbformat_minor": 4
}

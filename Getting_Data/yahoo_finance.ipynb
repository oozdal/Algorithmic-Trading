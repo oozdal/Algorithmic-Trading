{
 "cells": [
  {
   "cell_type": "code",
   "execution_count": 1,
   "metadata": {},
   "outputs": [],
   "source": [
    "import yfinance as yf\n",
    "import pandas as pd"
   ]
  },
  {
   "cell_type": "code",
   "execution_count": 4,
   "metadata": {},
   "outputs": [],
   "source": [
    "def download_data(stock, start_date, end_date):\n",
    "    data = {}\n",
    "    ticker = yf.download(stock, start_date, end_date)\n",
    "    data[\"Price\"] = ticker[\"Adj Close\"]\n",
    "    return pd.DataFrame(data)"
   ]
  },
  {
   "cell_type": "code",
   "execution_count": 7,
   "metadata": {},
   "outputs": [
    {
     "name": "stdout",
     "output_type": "stream",
     "text": [
      "[*********************100%***********************]  1 of 1 completed\n",
      "                 Price\n",
      "Date                  \n",
      "2015-01-05  121.259781\n",
      "2015-01-06  118.644684\n",
      "2015-01-07  117.869293\n",
      "2015-01-08  120.431152\n",
      "2015-01-09  120.955696\n",
      "...                ...\n",
      "2021-03-26  134.873047\n",
      "2021-03-29  134.358780\n",
      "2021-03-30  133.231384\n",
      "2021-03-31  131.787506\n",
      "2021-04-01  131.757843\n",
      "\n",
      "[1572 rows x 1 columns]\n"
     ]
    }
   ],
   "source": [
    "if __name__ == \"__main__\":\n",
    "    \n",
    "    start = \"2015-01-05\"\n",
    "    end   = \"2021-04-05\"\n",
    "    \n",
    "    stock_data = download_data(\"IBM\", start, end)\n",
    "    print(stock_data)"
   ]
  },
  {
   "cell_type": "code",
   "execution_count": null,
   "metadata": {},
   "outputs": [],
   "source": []
  }
 ],
 "metadata": {
  "kernelspec": {
   "display_name": "Python 3",
   "language": "python",
   "name": "python3"
  },
  "language_info": {
   "codemirror_mode": {
    "name": "ipython",
    "version": 3
   },
   "file_extension": ".py",
   "mimetype": "text/x-python",
   "name": "python",
   "nbconvert_exporter": "python",
   "pygments_lexer": "ipython3",
   "version": "3.8.3"
  }
 },
 "nbformat": 4,
 "nbformat_minor": 4
}

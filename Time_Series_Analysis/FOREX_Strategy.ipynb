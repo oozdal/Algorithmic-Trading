{
 "cells": [
  {
   "cell_type": "code",
   "execution_count": 49,
   "metadata": {},
   "outputs": [
    {
     "name": "stdout",
     "output_type": "stream",
     "text": [
      "\n",
      "The downloaded binary packages are in\n",
      "\t/var/folders/rh/pfd6hrw52s35skb7d44l36nr0000gn/T//RtmpD9Sopu/downloaded_packages\n",
      "\n",
      "The downloaded binary packages are in\n",
      "\t/var/folders/rh/pfd6hrw52s35skb7d44l36nr0000gn/T//RtmpD9Sopu/downloaded_packages\n",
      "\n",
      "The downloaded binary packages are in\n",
      "\t/var/folders/rh/pfd6hrw52s35skb7d44l36nr0000gn/T//RtmpD9Sopu/downloaded_packages\n",
      "\n",
      "The downloaded binary packages are in\n",
      "\t/var/folders/rh/pfd6hrw52s35skb7d44l36nr0000gn/T//RtmpD9Sopu/downloaded_packages\n"
     ]
    }
   ],
   "source": [
    "install.packages(\"quantmod\")\n",
    "library(quantmod)\n",
    "install.packages(\"timeSeries\")\n",
    "library(timeSeries)\n",
    "install.packages(\"rugarch\")\n",
    "library(rugarch)\n",
    "install.packages(\"priceR\")\n",
    "library(priceR)"
   ]
  },
  {
   "cell_type": "code",
   "execution_count": 50,
   "metadata": {},
   "outputs": [],
   "source": [
    "cur <- historical_exchange_rates(\"USD\", to = \"EUR\",\n",
    "                          start_date = \"2010-01-01\", end_date = \"2020-06-30\")"
   ]
  },
  {
   "cell_type": "code",
   "execution_count": 51,
   "metadata": {},
   "outputs": [
    {
     "data": {
      "text/html": [
       "<table class=\"dataframe\">\n",
       "<caption>A data.frame: 6 × 2</caption>\n",
       "<thead>\n",
       "\t<tr><th></th><th scope=col>date</th><th scope=col>one_USD_equivalent_to_x_EUR</th></tr>\n",
       "\t<tr><th></th><th scope=col>&lt;date&gt;</th><th scope=col>&lt;dbl&gt;</th></tr>\n",
       "</thead>\n",
       "<tbody>\n",
       "\t<tr><th scope=row>1</th><td>2010-01-01</td><td>0.694927</td></tr>\n",
       "\t<tr><th scope=row>2</th><td>2010-01-02</td><td>0.694927</td></tr>\n",
       "\t<tr><th scope=row>3</th><td>2010-01-03</td><td>0.694927</td></tr>\n",
       "\t<tr><th scope=row>4</th><td>2010-01-04</td><td>0.693289</td></tr>\n",
       "\t<tr><th scope=row>5</th><td>2010-01-05</td><td>0.696088</td></tr>\n",
       "\t<tr><th scope=row>6</th><td>2010-01-06</td><td>0.694252</td></tr>\n",
       "</tbody>\n",
       "</table>\n"
      ],
      "text/latex": [
       "A data.frame: 6 × 2\n",
       "\\begin{tabular}{r|ll}\n",
       "  & date & one\\_USD\\_equivalent\\_to\\_x\\_EUR\\\\\n",
       "  & <date> & <dbl>\\\\\n",
       "\\hline\n",
       "\t1 & 2010-01-01 & 0.694927\\\\\n",
       "\t2 & 2010-01-02 & 0.694927\\\\\n",
       "\t3 & 2010-01-03 & 0.694927\\\\\n",
       "\t4 & 2010-01-04 & 0.693289\\\\\n",
       "\t5 & 2010-01-05 & 0.696088\\\\\n",
       "\t6 & 2010-01-06 & 0.694252\\\\\n",
       "\\end{tabular}\n"
      ],
      "text/markdown": [
       "\n",
       "A data.frame: 6 × 2\n",
       "\n",
       "| <!--/--> | date &lt;date&gt; | one_USD_equivalent_to_x_EUR &lt;dbl&gt; |\n",
       "|---|---|---|\n",
       "| 1 | 2010-01-01 | 0.694927 |\n",
       "| 2 | 2010-01-02 | 0.694927 |\n",
       "| 3 | 2010-01-03 | 0.694927 |\n",
       "| 4 | 2010-01-04 | 0.693289 |\n",
       "| 5 | 2010-01-05 | 0.696088 |\n",
       "| 6 | 2010-01-06 | 0.694252 |\n",
       "\n"
      ],
      "text/plain": [
       "  date       one_USD_equivalent_to_x_EUR\n",
       "1 2010-01-01 0.694927                   \n",
       "2 2010-01-02 0.694927                   \n",
       "3 2010-01-03 0.694927                   \n",
       "4 2010-01-04 0.693289                   \n",
       "5 2010-01-05 0.696088                   \n",
       "6 2010-01-06 0.694252                   "
      ]
     },
     "metadata": {},
     "output_type": "display_data"
    }
   ],
   "source": [
    "head(cur)"
   ]
  },
  {
   "cell_type": "code",
   "execution_count": 52,
   "metadata": {},
   "outputs": [
    {
     "data": {
      "text/html": [
       "<style>\n",
       ".list-inline {list-style: none; margin:0; padding: 0}\n",
       ".list-inline>li {display: inline-block}\n",
       ".list-inline>li:not(:last-child)::after {content: \"\\00b7\"; padding: 0 .5ex}\n",
       "</style>\n",
       "<ol class=list-inline><li><time datetime=\"2010-01-01\">2010-01-01</time></li><li><time datetime=\"2010-01-02\">2010-01-02</time></li><li><time datetime=\"2010-01-03\">2010-01-03</time></li><li><time datetime=\"2010-01-04\">2010-01-04</time></li><li><time datetime=\"2010-01-05\">2010-01-05</time></li><li><time datetime=\"2010-01-06\">2010-01-06</time></li></ol>\n"
      ],
      "text/latex": [
       "\\begin{enumerate*}\n",
       "\\item 2010-01-01\n",
       "\\item 2010-01-02\n",
       "\\item 2010-01-03\n",
       "\\item 2010-01-04\n",
       "\\item 2010-01-05\n",
       "\\item 2010-01-06\n",
       "\\end{enumerate*}\n"
      ],
      "text/markdown": [
       "1. 2010-01-01\n",
       "2. 2010-01-02\n",
       "3. 2010-01-03\n",
       "4. 2010-01-04\n",
       "5. 2010-01-05\n",
       "6. 2010-01-06\n",
       "\n",
       "\n"
      ],
      "text/plain": [
       "[1] \"2010-01-01\" \"2010-01-02\" \"2010-01-03\" \"2010-01-04\" \"2010-01-05\"\n",
       "[6] \"2010-01-06\""
      ]
     },
     "metadata": {},
     "output_type": "display_data"
    }
   ],
   "source": [
    "dates <- as.Date(as.character(cur[,1]), format=\"%Y-%m-%d\")\n",
    "head(dates)"
   ]
  },
  {
   "cell_type": "code",
   "execution_count": 53,
   "metadata": {},
   "outputs": [
    {
     "data": {
      "text/html": [
       "<style>\n",
       ".list-inline {list-style: none; margin:0; padding: 0}\n",
       ".list-inline>li {display: inline-block}\n",
       ".list-inline>li:not(:last-child)::after {content: \"\\00b7\"; padding: 0 .5ex}\n",
       "</style>\n",
       "<ol class=list-inline><li>0</li><li>0</li><li>-0.00235986440173991</li><li>0.00402914944840749</li><li>-0.00264108213418746</li><li>0.00598849761261222</li></ol>\n"
      ],
      "text/latex": [
       "\\begin{enumerate*}\n",
       "\\item 0\n",
       "\\item 0\n",
       "\\item -0.00235986440173991\n",
       "\\item 0.00402914944840749\n",
       "\\item -0.00264108213418746\n",
       "\\item 0.00598849761261222\n",
       "\\end{enumerate*}\n"
      ],
      "text/markdown": [
       "1. 0\n",
       "2. 0\n",
       "3. -0.00235986440173991\n",
       "4. 0.00402914944840749\n",
       "5. -0.00264108213418746\n",
       "6. 0.00598849761261222\n",
       "\n",
       "\n"
      ],
      "text/plain": [
       "[1]  0.000000000  0.000000000 -0.002359864  0.004029149 -0.002641082\n",
       "[6]  0.005988498"
      ]
     },
     "metadata": {},
     "output_type": "display_data"
    }
   ],
   "source": [
    "# log returns\n",
    "returns <- diff(log(cur[,2]))\n",
    "head(returns)"
   ]
  },
  {
   "cell_type": "code",
   "execution_count": 54,
   "metadata": {},
   "outputs": [],
   "source": [
    "# we will use 500 observations (window) to fit the ARMA and GARCH models\n",
    "# we shift the window one step and fit the models again\n",
    "window.length <- 100\n",
    "forecasts.length <- length(returns) - window.length\n",
    "forecasts <- vector(mode=\"numeric\", length=forecasts.length)\n",
    "# we need this feature: +1 for positive return -1 for negative return\n",
    "directions <- vector(mode=\"numeric\", length=forecasts.length)"
   ]
  },
  {
   "cell_type": "code",
   "execution_count": 58,
   "metadata": {},
   "outputs": [
    {
     "ename": "ERROR",
     "evalue": "Error in UseMethod(\"logLik\"): no applicable method for 'logLik' applied to an object of class \"c('simpleWarning', 'warning', 'condition')\"\n",
     "output_type": "error",
     "traceback": [
      "Error in UseMethod(\"logLik\"): no applicable method for 'logLik' applied to an object of class \"c('simpleWarning', 'warning', 'condition')\"\nTraceback:\n",
      "1. AIC(model)",
      "2. AIC.default(model)",
      "3. ll(object)"
     ]
    }
   ],
   "source": [
    "# consider every trading day and calculate optimal model parameters\n",
    "# make a prediction for next day's return\n",
    "for (i in 0:forecasts.length) {\n",
    "    # let's create rolling window\n",
    "    roll.returns <- returns[(1+i):(window.length + i)]\n",
    "    final.aic <- Inf\n",
    "    final.order <- c(0,0,0)\n",
    "    \n",
    "    # ARMA model order p, q < 4 !!!\n",
    "    for (p in 1:4) for (q in 1:4) {\n",
    "        \n",
    "      # because of the error=function(err) FALSE in case of an error, it returns  FALSE\n",
    "      model <- tryCatch( arima(roll.returns, order = c(p,0,q)), error =  function( err ) FALSE, warning = function( err ) err)  \n",
    "        \n",
    "      # FALSE means the model fit was unsuccessful (needs more iteration for example)\n",
    "      # we find the best model based in AIC !!!\n",
    "      if (!is.logical(model)) {\n",
    "          current.aic <- AIC(model)\n",
    "          if (current.aic < final.aic){\n",
    "              final.aic <- current.aic\n",
    "              final.order <- c(p,0,q)\n",
    "              final.arima <- arima(roll.returns, order =  final.order)\n",
    "          }                  \n",
    "       }\n",
    "    }                  \n",
    "                        \n",
    "\n",
    "}\n"
   ]
  },
  {
   "cell_type": "code",
   "execution_count": null,
   "metadata": {},
   "outputs": [],
   "source": [
    "    # We use GARCH(1,1) model\n",
    "    # variance: GARCH is needed - mean: ARMA is needed\n",
    "    # the errors have skew-generalized error distribution - sged\n",
    "    spec = ugarchspec(variance.model <- list(garchOrder=c(1,1)),\n",
    "                      mean.model <- list(armaOrder <- c(final.order[1], final.order[3]), include.mean = T),\n",
    "                      distribution.model = \"sqed\")                  \n",
    "                      \n",
    "    # this is how we actually fit the GARCH(1,1) model\n",
    "    # we just want to fit the model to the rolling window returns + hybrid tried difference\n",
    "    fit = tryCatch(ugarchfit(spec, roll.returns, solver = 'hybrid'), error = function(e) e, warning = function(w) w)\n",
    "     \n",
    "    # let's make predictions with the fitted model\n",
    "    # model does not always converge - assign value of 0 to prediction\n",
    "    if (is(fit, \"warning\")) {\n",
    "        forecasts[i+1] <- 0\n",
    "        }   \n",
    "    else {\n",
    "        # we predict the return tomorrow (so 1 day ahead)\n",
    "        next.day.forecast = ugarchforecast(fit, n.ahead = 1)\n",
    "        # x variable contains the value of the return\n",
    "        x =  next.day.forecast@forecast$seriesFor\n",
    "        # we need the predictions: +1 (positive return) or -1 (negative return) / x[1] is\n",
    "        directions[i+1] <- ifelse(x[1] > 0, 1, -1)\n",
    "        # actual value of forecast: we predict returns\n",
    "        forecasts[i+1] <- x[1]\n",
    "    }"
   ]
  }
 ],
 "metadata": {
  "kernelspec": {
   "display_name": "R",
   "language": "R",
   "name": "ir"
  },
  "language_info": {
   "codemirror_mode": "r",
   "file_extension": ".r",
   "mimetype": "text/x-r-source",
   "name": "R",
   "pygments_lexer": "r",
   "version": "4.0.3"
  }
 },
 "nbformat": 4,
 "nbformat_minor": 4
}

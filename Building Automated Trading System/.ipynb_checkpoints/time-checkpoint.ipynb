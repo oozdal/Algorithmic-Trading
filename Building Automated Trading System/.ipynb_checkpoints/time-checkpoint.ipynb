{
 "cells": [
  {
   "cell_type": "code",
   "execution_count": 1,
   "metadata": {},
   "outputs": [],
   "source": [
    "# python time module\n",
    "\n",
    "import time\n",
    "import numpy as np"
   ]
  },
  {
   "cell_type": "code",
   "execution_count": 2,
   "metadata": {},
   "outputs": [],
   "source": [
    "def fibonacci(n):\n",
    "   \"\"\"Recursive function to print nth Fibonacci number\"\"\"\n",
    "   if n <= 1:\n",
    "       return n\n",
    "   else:\n",
    "       return(fibonacci(n-1) + fibonacci(n-2))\n",
    "\n",
    "def main():\n",
    "    num = np.random.randint(1,25)\n",
    "    print(\"%dth fibonacci number is : %d\"%(num,fibonacci(num)))"
   ]
  },
  {
   "cell_type": "code",
   "execution_count": 3,
   "metadata": {},
   "outputs": [],
   "source": [
    "# Continuous execution        \n",
    "starttime=time.time()\n",
    "timeout = time.time() + 60*2  # 60 seconds times 2 meaning the script will run for 2 minutes"
   ]
  },
  {
   "cell_type": "code",
   "execution_count": 4,
   "metadata": {},
   "outputs": [
    {
     "name": "stdout",
     "output_type": "stream",
     "text": [
      "15th fibonacci number is : 610\n",
      "2th fibonacci number is : 1\n",
      "20th fibonacci number is : 6765\n",
      "5th fibonacci number is : 5\n",
      "7th fibonacci number is : 13\n",
      "15th fibonacci number is : 610\n",
      "20th fibonacci number is : 6765\n",
      "4th fibonacci number is : 3\n",
      "9th fibonacci number is : 34\n",
      "17th fibonacci number is : 1597\n",
      "21th fibonacci number is : 10946\n",
      "1th fibonacci number is : 1\n",
      "2th fibonacci number is : 1\n",
      "11th fibonacci number is : 89\n",
      "8th fibonacci number is : 21\n",
      "15th fibonacci number is : 610\n",
      "3th fibonacci number is : 2\n",
      "18th fibonacci number is : 2584\n",
      "23th fibonacci number is : 28657\n",
      "15th fibonacci number is : 610\n",
      "4th fibonacci number is : 3\n"
     ]
    }
   ],
   "source": [
    "while time.time() <= timeout:\n",
    "    try:\n",
    "        main()\n",
    "        time.sleep(5 - ((time.time() - starttime) % 5.0)) \n",
    "    except KeyboardInterrupt:\n",
    "        print('\\n\\nKeyboard exception received. Exiting.')\n",
    "        exit()"
   ]
  },
  {
   "cell_type": "code",
   "execution_count": 13,
   "metadata": {},
   "outputs": [],
   "source": [
    "# Continuous execution        \n",
    "starttime=time.time()\n",
    "timeout = time.time() + 30 # the script will run for 30 seconds"
   ]
  },
  {
   "cell_type": "code",
   "execution_count": 14,
   "metadata": {},
   "outputs": [
    {
     "name": "stdout",
     "output_type": "stream",
     "text": [
      "24th fibonacci number is : 46368\n",
      "19th fibonacci number is : 4181\n",
      "9th fibonacci number is : 34\n",
      "11th fibonacci number is : 89\n",
      "22th fibonacci number is : 17711\n",
      "15th fibonacci number is : 610\n"
     ]
    }
   ],
   "source": [
    "while time.time() <= timeout:\n",
    "    try:\n",
    "        main()\n",
    "        time.sleep(5)  # 5 second interval between each new iteration\n",
    "    except KeyboardInterrupt:\n",
    "        print('\\n\\nKeyboard exception received. Exiting.')\n",
    "        exit()"
   ]
  },
  {
   "cell_type": "code",
   "execution_count": 15,
   "metadata": {},
   "outputs": [
    {
     "data": {
      "text/plain": [
       "4.6803247928619385"
      ]
     },
     "execution_count": 15,
     "metadata": {},
     "output_type": "execute_result"
    }
   ],
   "source": [
    "5 - ((time.time() - starttime) % 5.0)"
   ]
  },
  {
   "cell_type": "code",
   "execution_count": 16,
   "metadata": {},
   "outputs": [
    {
     "data": {
      "text/plain": [
       "2.5407769680023193"
      ]
     },
     "execution_count": 16,
     "metadata": {},
     "output_type": "execute_result"
    }
   ],
   "source": [
    "5 - ((time.time() - starttime) % 5.0)"
   ]
  },
  {
   "cell_type": "code",
   "execution_count": null,
   "metadata": {},
   "outputs": [],
   "source": []
  }
 ],
 "metadata": {
  "kernelspec": {
   "display_name": "Python 3",
   "language": "python",
   "name": "python3"
  },
  "language_info": {
   "codemirror_mode": {
    "name": "ipython",
    "version": 3
   },
   "file_extension": ".py",
   "mimetype": "text/x-python",
   "name": "python",
   "nbconvert_exporter": "python",
   "pygments_lexer": "ipython3",
   "version": "3.8.3"
  }
 },
 "nbformat": 4,
 "nbformat_minor": 4
}

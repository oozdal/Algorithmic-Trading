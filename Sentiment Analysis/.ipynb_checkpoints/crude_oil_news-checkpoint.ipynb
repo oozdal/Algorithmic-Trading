{
 "cells": [
  {
   "cell_type": "markdown",
   "metadata": {},
   "source": [
    "# Scraping crude oil related news urls and text"
   ]
  },
  {
   "cell_type": "code",
   "execution_count": 8,
   "metadata": {},
   "outputs": [],
   "source": [
    "# import necessary libraries\n",
    "import requests\n",
    "from bs4 import BeautifulSoup\n",
    "import pandas as pd"
   ]
  },
  {
   "cell_type": "code",
   "execution_count": 2,
   "metadata": {},
   "outputs": [],
   "source": [
    "# Create lists to store scraped news urls, headlines and text\n",
    "url_list = []\n",
    "news_text = []\n",
    "headlines = []"
   ]
  },
  {
   "cell_type": "code",
   "execution_count": 3,
   "metadata": {},
   "outputs": [],
   "source": [
    "for i in range(1,3): #parameters of range function correspond to page numbers in the website with news listings\n",
    "    url = 'https://oilprice.com/Energy/Crude-Oil/Page-{}.html'.format(i)\n",
    "    request = requests.get(url)\n",
    "    soup = BeautifulSoup(request.text, \"html.parser\")\n",
    "    for links in soup.find_all('div', {'class': 'categoryArticle'}):\n",
    "        for info in links.find_all('a'):\n",
    "            if info.get('href') not in url_list:\n",
    "                url_list.append(info.get('href'))"
   ]
  },
  {
   "cell_type": "code",
   "execution_count": 4,
   "metadata": {},
   "outputs": [],
   "source": [
    "for www in url_list:\n",
    "    temp = []\n",
    "    headlines.append(www.split(\"/\")[-1].replace('-',' '))\n",
    "    request = requests.get(www)\n",
    "    soup = BeautifulSoup(request.text, \"html.parser\")\n",
    "    for news in soup.find_all('p'):\n",
    "            temp.append(news.text)\n",
    "    \n",
    "    #identify the last line of the news article\n",
    "    for last_sentence in reversed(temp):\n",
    "        if last_sentence.split(\" \")[0]==\"By\" and last_sentence.split(\" \")[-1]==\"Oilprice.com\":\n",
    "            break\n",
    "        elif last_sentence.split(\" \")[0]==\"By\":\n",
    "            break\n",
    "    \n",
    "    #prune non news related text from the scraped data to create the news text\n",
    "    joined_text = ' '.join(temp[temp.index(\"More Info\")+1:temp.index(last_sentence)])\n",
    "    news_text.append(joined_text)"
   ]
  },
  {
   "cell_type": "code",
   "execution_count": 6,
   "metadata": {},
   "outputs": [
    {
     "data": {
      "text/html": [
       "<div>\n",
       "<style scoped>\n",
       "    .dataframe tbody tr th:only-of-type {\n",
       "        vertical-align: middle;\n",
       "    }\n",
       "\n",
       "    .dataframe tbody tr th {\n",
       "        vertical-align: top;\n",
       "    }\n",
       "\n",
       "    .dataframe thead th {\n",
       "        text-align: right;\n",
       "    }\n",
       "</style>\n",
       "<table border=\"1\" class=\"dataframe\">\n",
       "  <thead>\n",
       "    <tr style=\"text-align: right;\">\n",
       "      <th></th>\n",
       "      <th>Headline</th>\n",
       "      <th>News</th>\n",
       "    </tr>\n",
       "  </thead>\n",
       "  <tbody>\n",
       "    <tr>\n",
       "      <th>0</th>\n",
       "      <td>Asias Physical Oil Market Strengthens In Sign ...</td>\n",
       "      <td>China and Japan have recently intensified purc...</td>\n",
       "    </tr>\n",
       "    <tr>\n",
       "      <th>1</th>\n",
       "      <td>The IEA May Have Given OPEC A Huge Gift.html</td>\n",
       "      <td>An immediate halt to oil exploration is one of...</td>\n",
       "    </tr>\n",
       "    <tr>\n",
       "      <th>2</th>\n",
       "      <td>Oil Prices Tumble As Crude Inventories Rise.html</td>\n",
       "      <td>Crude oil prices moved further down today afte...</td>\n",
       "    </tr>\n",
       "    <tr>\n",
       "      <th>3</th>\n",
       "      <td>Heavy Rains Reduce Gulf Coast Refinery Output....</td>\n",
       "      <td>Four refineries on the U.S. Gulf Coast have re...</td>\n",
       "    </tr>\n",
       "    <tr>\n",
       "      <th>4</th>\n",
       "      <td>The IEAs Latest Proposal Is Both Reckless And ...</td>\n",
       "      <td>The International Energy Agency,  which has st...</td>\n",
       "    </tr>\n",
       "  </tbody>\n",
       "</table>\n",
       "</div>"
      ],
      "text/plain": [
       "                                            Headline  \\\n",
       "0  Asias Physical Oil Market Strengthens In Sign ...   \n",
       "1       The IEA May Have Given OPEC A Huge Gift.html   \n",
       "2   Oil Prices Tumble As Crude Inventories Rise.html   \n",
       "3  Heavy Rains Reduce Gulf Coast Refinery Output....   \n",
       "4  The IEAs Latest Proposal Is Both Reckless And ...   \n",
       "\n",
       "                                                News  \n",
       "0  China and Japan have recently intensified purc...  \n",
       "1  An immediate halt to oil exploration is one of...  \n",
       "2  Crude oil prices moved further down today afte...  \n",
       "3  Four refineries on the U.S. Gulf Coast have re...  \n",
       "4  The International Energy Agency,  which has st...  "
      ]
     },
     "execution_count": 6,
     "metadata": {},
     "output_type": "execute_result"
    }
   ],
   "source": [
    "# save news text along with the news headline in a dataframe      \n",
    "news_df = pd.DataFrame({ 'Headline': headlines,\n",
    "                         'News': news_text,\n",
    "                       })\n",
    "\n",
    "news_df.head()"
   ]
  },
  {
   "cell_type": "code",
   "execution_count": 7,
   "metadata": {},
   "outputs": [],
   "source": [
    "# export the news data into a csv file\n",
    "news_df.to_csv(\"data/CrudeOil_News_Articles.csv\",index=False)"
   ]
  },
  {
   "cell_type": "code",
   "execution_count": null,
   "metadata": {},
   "outputs": [],
   "source": []
  }
 ],
 "metadata": {
  "kernelspec": {
   "display_name": "Python 3",
   "language": "python",
   "name": "python3"
  },
  "language_info": {
   "codemirror_mode": {
    "name": "ipython",
    "version": 3
   },
   "file_extension": ".py",
   "mimetype": "text/x-python",
   "name": "python",
   "nbconvert_exporter": "python",
   "pygments_lexer": "ipython3",
   "version": "3.8.3"
  }
 },
 "nbformat": 4,
 "nbformat_minor": 4
}

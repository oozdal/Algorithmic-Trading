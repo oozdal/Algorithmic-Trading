{
 "cells": [
  {
   "cell_type": "markdown",
   "metadata": {},
   "source": [
    "# Logistic regression strategy implementation"
   ]
  },
  {
   "cell_type": "code",
   "execution_count": 3,
   "metadata": {},
   "outputs": [],
   "source": [
    "import numpy as np\n",
    "from sklearn.linear_model import LogisticRegression\n",
    "from sklearn.metrics import confusion_matrix\n",
    "from sklearn.model_selection import train_test_split\n",
    "from sklearn.metrics import accuracy_score\n",
    "import datetime\n",
    "import pandas as pd\n",
    "import yfinance as yf"
   ]
  },
  {
   "cell_type": "code",
   "execution_count": 4,
   "metadata": {},
   "outputs": [],
   "source": [
    "def download_data(stock, start, end):\n",
    "    data = {}\n",
    "    ticker = yf.download(stock, start, end)\n",
    "    data['Close'] = ticker['Adj Close']\n",
    "    return pd.DataFrame(data)"
   ]
  },
  {
   "cell_type": "code",
   "execution_count": 14,
   "metadata": {},
   "outputs": [],
   "source": [
    "def construct_features(data, lags=2):\n",
    "    \n",
    "    # calculate the lagged adjusted closing prices (name = Close)\n",
    "    for i in range(0, lags):\n",
    "        data['Lag%s' % str(i+1)] = data['Close'].shift(i+1)\n",
    "    \n",
    "    # calculate the percent of actual changes\n",
    "    data['Today Change'] = data['Close']\n",
    "    data['Today Change'] = data['Today Change'].pct_change() * 100\n",
    "    \n",
    "    # calculate the lags in percentage (normalization)\n",
    "    for i in range(0, lags):\n",
    "        data['Lag%s' % str(i+1)] = data['Lag%s' % str(i+1)].pct_change() * 100\n",
    "        \n",
    "    # direction - the target variable\n",
    "    data['Direction'] =  np.where(data['Today Change'] > 0, 1, -1)\n",
    "        \n",
    "    print(data)"
   ]
  },
  {
   "cell_type": "code",
   "execution_count": 15,
   "metadata": {},
   "outputs": [
    {
     "name": "stdout",
     "output_type": "stream",
     "text": [
      "[*********************100%***********************]  1 of 1 completed\n",
      "                 Close      Lag1      Lag2  Today Change  Direction\n",
      "Date                                                               \n",
      "2017-01-03  136.249847       NaN       NaN           NaN         -1\n",
      "2017-01-04  137.936768       NaN       NaN      1.238108          1\n",
      "2017-01-05  137.480408  1.238108       NaN     -0.330847         -1\n",
      "2017-01-06  138.156799 -0.330847  1.238108      0.491991          1\n",
      "2017-01-09  136.624695  0.491991 -0.330847     -1.108961         -1\n",
      "...                ...       ...       ...           ...        ...\n",
      "2017-12-22  129.098679 -0.948044 -0.182706      0.660073          1\n",
      "2017-12-26  129.378067  0.660073 -0.948044      0.216415          1\n",
      "2017-12-27  129.632019  0.216415  0.660073      0.196287          1\n",
      "2017-12-28  130.402390  0.196287  0.216415      0.594275          1\n",
      "2017-12-29  129.877502  0.594275  0.196287     -0.402513         -1\n",
      "\n",
      "[251 rows x 5 columns]\n"
     ]
    }
   ],
   "source": [
    "if __name__ == '__main__':\n",
    "    start_date = datetime.datetime(2017, 1, 1)\n",
    "    end_date   = datetime.datetime(2018, 1, 1)\n",
    "    \n",
    "    stock_data = download_data('IBM', start_date, end_date)\n",
    "    construct_features(stock_data)"
   ]
  },
  {
   "cell_type": "code",
   "execution_count": null,
   "metadata": {},
   "outputs": [],
   "source": []
  }
 ],
 "metadata": {
  "kernelspec": {
   "display_name": "Python 3",
   "language": "python",
   "name": "python3"
  },
  "language_info": {
   "codemirror_mode": {
    "name": "ipython",
    "version": 3
   },
   "file_extension": ".py",
   "mimetype": "text/x-python",
   "name": "python",
   "nbconvert_exporter": "python",
   "pygments_lexer": "ipython3",
   "version": "3.8.3"
  }
 },
 "nbformat": 4,
 "nbformat_minor": 4
}

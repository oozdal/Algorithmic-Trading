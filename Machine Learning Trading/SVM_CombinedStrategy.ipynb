{
 "cells": [
  {
   "cell_type": "markdown",
   "metadata": {},
   "source": [
    "# Support Vector Machines with SMA and RSI trading strategy"
   ]
  },
  {
   "cell_type": "code",
   "execution_count": 2,
   "metadata": {},
   "outputs": [],
   "source": [
    "import datetime\n",
    "import pandas as pd\n",
    "import yfinance as yf\n",
    "import numpy as np\n",
    "from sklearn.svm import SVC\n",
    "from sklearn.metrics import confusion_matrix\n",
    "from sklearn.model_selection import train_test_split\n",
    "from sklearn.metrics import accuracy_score\n",
    "from sklearn.model_selection import ParameterGrid\n",
    "import matplotlib.pyplot as plt"
   ]
  },
  {
   "cell_type": "code",
   "execution_count": 3,
   "metadata": {},
   "outputs": [],
   "source": [
    "def fetch_data(symbol, start, end):\n",
    "    ticker = yf.download(symbol, start, end)\n",
    "    return pd.DataFrame(ticker)"
   ]
  },
  {
   "cell_type": "code",
   "execution_count": 4,
   "metadata": {},
   "outputs": [],
   "source": [
    "def calculate_rsi(data, period=14):\n",
    "    data['move'] = data['Close'] - data['Close'].shift(1)\n",
    "    data['up'] = np.where(data['move'] > 0, data['move'], 0)\n",
    "    data['down'] = np.where(data['move'] < 0, data['move'], 0)\n",
    "    data['average_gain'] = data['up'].rolling(period).mean()\n",
    "    data['average_loss'] = data['down'].rolling(period).mean()\n",
    "    data['relative_strength'] =  data['average_gain'] / data['average_loss']\n",
    "    return 100.0 - (100.0 / (1.0 + data['relative_strength']))"
   ]
  },
  {
   "cell_type": "code",
   "execution_count": null,
   "metadata": {},
   "outputs": [],
   "source": [
    "def construct_signals(data, ma_period=60, rsi_period=14):\n",
    "    data['SMA'] = data['Close'].rolling(window=ma_period).mean()\n",
    "    data['trend'] = (data['Open'] - data['SMA']) * 100\n",
    "    data['RSI'] = calculate_rsi(data, rsi_period) / 100"
   ]
  }
 ],
 "metadata": {
  "kernelspec": {
   "display_name": "Python 3",
   "language": "python",
   "name": "python3"
  },
  "language_info": {
   "codemirror_mode": {
    "name": "ipython",
    "version": 3
   },
   "file_extension": ".py",
   "mimetype": "text/x-python",
   "name": "python",
   "nbconvert_exporter": "python",
   "pygments_lexer": "ipython3",
   "version": "3.8.3"
  }
 },
 "nbformat": 4,
 "nbformat_minor": 4
}

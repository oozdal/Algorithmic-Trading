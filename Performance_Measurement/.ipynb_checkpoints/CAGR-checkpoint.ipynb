{
 "cells": [
  {
   "cell_type": "code",
   "execution_count": 15,
   "metadata": {},
   "outputs": [],
   "source": [
    "# Measuring the performance of a buy and hold strategy \n",
    "# Compound Annual Growth Rate (CAGR)\n",
    "\n",
    "# Import necesary libraries\n",
    "import yfinance as yf\n",
    "import numpy as np\n",
    "import datetime as dt\n",
    "import matplotlib.pyplot as plt\n",
    "from matplotlib import pyplot\n",
    "pyplot.rcParams['figure.figsize'] = (10.0, 8.0)"
   ]
  },
  {
   "cell_type": "code",
   "execution_count": 2,
   "metadata": {},
   "outputs": [
    {
     "name": "stdout",
     "output_type": "stream",
     "text": [
      "[*********************100%***********************]  1 of 1 completed\n"
     ]
    }
   ],
   "source": [
    "# Download historical data for required stocks\n",
    "ticker = \"^GSPC\"\n",
    "SnP = yf.download(ticker,dt.date.today()-dt.timedelta(1825),dt.datetime.today())"
   ]
  },
  {
   "cell_type": "code",
   "execution_count": 29,
   "metadata": {},
   "outputs": [],
   "source": [
    "def cum_return(DF):\n",
    "    \"function to calculate the Cumulative Annual Growth Rate of a trading strategy\"\n",
    "    df = DF.copy()\n",
    "    df[\"daily_ret\"] = DF[\"Adj Close\"].pct_change()\n",
    "    df[\"cum_return\"] = (1 + df[\"daily_ret\"]).cumprod()  # cumprod -> cumulative product\n",
    "    return df\n",
    "    \n",
    "def CAGR(df):    \n",
    "    n = len(df)/252   # 252 is the total number of trading days per year.\n",
    "    CAGR = (df[\"cum_return\"][-1])**(1/n) - 1  # 1/n refers to 1/years\n",
    "    return CAGR"
   ]
  },
  {
   "cell_type": "code",
   "execution_count": 30,
   "metadata": {},
   "outputs": [
    {
     "data": {
      "text/html": [
       "<div>\n",
       "<style scoped>\n",
       "    .dataframe tbody tr th:only-of-type {\n",
       "        vertical-align: middle;\n",
       "    }\n",
       "\n",
       "    .dataframe tbody tr th {\n",
       "        vertical-align: top;\n",
       "    }\n",
       "\n",
       "    .dataframe thead th {\n",
       "        text-align: right;\n",
       "    }\n",
       "</style>\n",
       "<table border=\"1\" class=\"dataframe\">\n",
       "  <thead>\n",
       "    <tr style=\"text-align: right;\">\n",
       "      <th></th>\n",
       "      <th>Open</th>\n",
       "      <th>High</th>\n",
       "      <th>Low</th>\n",
       "      <th>Close</th>\n",
       "      <th>Adj Close</th>\n",
       "      <th>Volume</th>\n",
       "      <th>daily_ret</th>\n",
       "      <th>cum_return</th>\n",
       "    </tr>\n",
       "    <tr>\n",
       "      <th>Date</th>\n",
       "      <th></th>\n",
       "      <th></th>\n",
       "      <th></th>\n",
       "      <th></th>\n",
       "      <th></th>\n",
       "      <th></th>\n",
       "      <th></th>\n",
       "      <th></th>\n",
       "    </tr>\n",
       "  </thead>\n",
       "  <tbody>\n",
       "    <tr>\n",
       "      <th>2016-05-05</th>\n",
       "      <td>2052.949951</td>\n",
       "      <td>2060.229980</td>\n",
       "      <td>2045.770020</td>\n",
       "      <td>2050.629883</td>\n",
       "      <td>2050.629883</td>\n",
       "      <td>4008530000</td>\n",
       "      <td>NaN</td>\n",
       "      <td>NaN</td>\n",
       "    </tr>\n",
       "    <tr>\n",
       "      <th>2016-05-06</th>\n",
       "      <td>2047.770020</td>\n",
       "      <td>2057.719971</td>\n",
       "      <td>2039.449951</td>\n",
       "      <td>2057.139893</td>\n",
       "      <td>2057.139893</td>\n",
       "      <td>3796350000</td>\n",
       "      <td>0.003175</td>\n",
       "      <td>1.003175</td>\n",
       "    </tr>\n",
       "    <tr>\n",
       "      <th>2016-05-09</th>\n",
       "      <td>2057.550049</td>\n",
       "      <td>2064.149902</td>\n",
       "      <td>2054.310059</td>\n",
       "      <td>2058.689941</td>\n",
       "      <td>2058.689941</td>\n",
       "      <td>3788620000</td>\n",
       "      <td>0.000753</td>\n",
       "      <td>1.003931</td>\n",
       "    </tr>\n",
       "    <tr>\n",
       "      <th>2016-05-10</th>\n",
       "      <td>2062.629883</td>\n",
       "      <td>2084.870117</td>\n",
       "      <td>2062.629883</td>\n",
       "      <td>2084.389893</td>\n",
       "      <td>2084.389893</td>\n",
       "      <td>3600200000</td>\n",
       "      <td>0.012484</td>\n",
       "      <td>1.016463</td>\n",
       "    </tr>\n",
       "    <tr>\n",
       "      <th>2016-05-11</th>\n",
       "      <td>2083.290039</td>\n",
       "      <td>2083.290039</td>\n",
       "      <td>2064.459961</td>\n",
       "      <td>2064.459961</td>\n",
       "      <td>2064.459961</td>\n",
       "      <td>3821980000</td>\n",
       "      <td>-0.009562</td>\n",
       "      <td>1.006744</td>\n",
       "    </tr>\n",
       "    <tr>\n",
       "      <th>...</th>\n",
       "      <td>...</td>\n",
       "      <td>...</td>\n",
       "      <td>...</td>\n",
       "      <td>...</td>\n",
       "      <td>...</td>\n",
       "      <td>...</td>\n",
       "      <td>...</td>\n",
       "      <td>...</td>\n",
       "    </tr>\n",
       "    <tr>\n",
       "      <th>2021-04-28</th>\n",
       "      <td>4185.140137</td>\n",
       "      <td>4201.529785</td>\n",
       "      <td>4181.779785</td>\n",
       "      <td>4183.180176</td>\n",
       "      <td>4183.180176</td>\n",
       "      <td>3772390000</td>\n",
       "      <td>-0.000846</td>\n",
       "      <td>2.039949</td>\n",
       "    </tr>\n",
       "    <tr>\n",
       "      <th>2021-04-29</th>\n",
       "      <td>4206.140137</td>\n",
       "      <td>4218.779785</td>\n",
       "      <td>4176.810059</td>\n",
       "      <td>4211.470215</td>\n",
       "      <td>4211.470215</td>\n",
       "      <td>4288940000</td>\n",
       "      <td>0.006763</td>\n",
       "      <td>2.053745</td>\n",
       "    </tr>\n",
       "    <tr>\n",
       "      <th>2021-04-30</th>\n",
       "      <td>4198.100098</td>\n",
       "      <td>4198.100098</td>\n",
       "      <td>4174.850098</td>\n",
       "      <td>4181.169922</td>\n",
       "      <td>4181.169922</td>\n",
       "      <td>4273680000</td>\n",
       "      <td>-0.007195</td>\n",
       "      <td>2.038969</td>\n",
       "    </tr>\n",
       "    <tr>\n",
       "      <th>2021-05-03</th>\n",
       "      <td>4191.979980</td>\n",
       "      <td>4209.390137</td>\n",
       "      <td>4188.029785</td>\n",
       "      <td>4192.660156</td>\n",
       "      <td>4192.660156</td>\n",
       "      <td>4061170000</td>\n",
       "      <td>0.002748</td>\n",
       "      <td>2.044572</td>\n",
       "    </tr>\n",
       "    <tr>\n",
       "      <th>2021-05-04</th>\n",
       "      <td>4179.040039</td>\n",
       "      <td>4179.040039</td>\n",
       "      <td>4128.589844</td>\n",
       "      <td>4154.500000</td>\n",
       "      <td>4154.500000</td>\n",
       "      <td>1693863000</td>\n",
       "      <td>-0.009102</td>\n",
       "      <td>2.025963</td>\n",
       "    </tr>\n",
       "  </tbody>\n",
       "</table>\n",
       "<p>1258 rows × 8 columns</p>\n",
       "</div>"
      ],
      "text/plain": [
       "                   Open         High          Low        Close    Adj Close  \\\n",
       "Date                                                                          \n",
       "2016-05-05  2052.949951  2060.229980  2045.770020  2050.629883  2050.629883   \n",
       "2016-05-06  2047.770020  2057.719971  2039.449951  2057.139893  2057.139893   \n",
       "2016-05-09  2057.550049  2064.149902  2054.310059  2058.689941  2058.689941   \n",
       "2016-05-10  2062.629883  2084.870117  2062.629883  2084.389893  2084.389893   \n",
       "2016-05-11  2083.290039  2083.290039  2064.459961  2064.459961  2064.459961   \n",
       "...                 ...          ...          ...          ...          ...   \n",
       "2021-04-28  4185.140137  4201.529785  4181.779785  4183.180176  4183.180176   \n",
       "2021-04-29  4206.140137  4218.779785  4176.810059  4211.470215  4211.470215   \n",
       "2021-04-30  4198.100098  4198.100098  4174.850098  4181.169922  4181.169922   \n",
       "2021-05-03  4191.979980  4209.390137  4188.029785  4192.660156  4192.660156   \n",
       "2021-05-04  4179.040039  4179.040039  4128.589844  4154.500000  4154.500000   \n",
       "\n",
       "                Volume  daily_ret  cum_return  \n",
       "Date                                           \n",
       "2016-05-05  4008530000        NaN         NaN  \n",
       "2016-05-06  3796350000   0.003175    1.003175  \n",
       "2016-05-09  3788620000   0.000753    1.003931  \n",
       "2016-05-10  3600200000   0.012484    1.016463  \n",
       "2016-05-11  3821980000  -0.009562    1.006744  \n",
       "...                ...        ...         ...  \n",
       "2021-04-28  3772390000  -0.000846    2.039949  \n",
       "2021-04-29  4288940000   0.006763    2.053745  \n",
       "2021-04-30  4273680000  -0.007195    2.038969  \n",
       "2021-05-03  4061170000   0.002748    2.044572  \n",
       "2021-05-04  1693863000  -0.009102    2.025963  \n",
       "\n",
       "[1258 rows x 8 columns]"
      ]
     },
     "execution_count": 30,
     "metadata": {},
     "output_type": "execute_result"
    }
   ],
   "source": [
    "DF = SnP.copy()\n",
    "DF = cum_return(DF)\n",
    "DF"
   ]
  },
  {
   "cell_type": "code",
   "execution_count": 39,
   "metadata": {},
   "outputs": [
    {
     "name": "stdout",
     "output_type": "stream",
     "text": [
      "Compound Annual Growth Rate (CAGR):  0.15192391408567785\n"
     ]
    }
   ],
   "source": [
    "print(\"Compound Annual Growth Rate (CAGR): \", CAGR(DF) )"
   ]
  },
  {
   "cell_type": "code",
   "execution_count": 45,
   "metadata": {},
   "outputs": [
    {
     "data": {
      "text/plain": [
       "Text(2017, 1.9, 'Compound Annual Growth Rate (CAGR): 0.15192391408567785')"
      ]
     },
     "execution_count": 45,
     "metadata": {},
     "output_type": "execute_result"
    },
    {
     "data": {
      "image/png": "[encoded data removed]",
      "text/plain": [
       "<Figure size 720x576 with 1 Axes>"
      ]
     },
     "metadata": {
      "needs_background": "light"
     },
     "output_type": "display_data"
    }
   ],
   "source": [
    "ax = DF[\"cum_return\"].plot()\n",
    "ax.set_ylabel(\"Cumulative Return\", size = 20)\n",
    "ax.text(\"2017\",1.9,\"Compound Annual Growth Rate (CAGR): \"+ str(CAGR(DF)))"
   ]
  },
  {
   "cell_type": "code",
   "execution_count": null,
   "metadata": {},
   "outputs": [],
   "source": []
  }
 ],
 "metadata": {
  "kernelspec": {
   "display_name": "Python 3",
   "language": "python",
   "name": "python3"
  },
  "language_info": {
   "codemirror_mode": {
    "name": "ipython",
    "version": 3
   },
   "file_extension": ".py",
   "mimetype": "text/x-python",
   "name": "python",
   "nbconvert_exporter": "python",
   "pygments_lexer": "ipython3",
   "version": "3.8.3"
  }
 },
 "nbformat": 4,
 "nbformat_minor": 4
}

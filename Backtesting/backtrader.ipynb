{
 "cells": [
  {
   "cell_type": "code",
   "execution_count": 2,
   "metadata": {},
   "outputs": [],
   "source": [
    "import backtrader as bt\n",
    "from datetime import datetime"
   ]
  },
  {
   "cell_type": "code",
   "execution_count": 24,
   "metadata": {},
   "outputs": [],
   "source": [
    "class MovingAverageStrategy(bt.Strategy):\n",
    "\n",
    "    # Moving average parameters\n",
    "    params = (('pfast',20),('pslow',50),)\n",
    "    \n",
    "    def __init__(self):\n",
    "        # get the data we have provided\n",
    "        # self.close_data = self.data.close\n",
    "        self.close_data = self.datas[0].close\n",
    "        \n",
    "        # this is where we create the indicators\n",
    "        self.fast_sma = bt.indicators.MovingAverageSimple(self.close_data,\n",
    "                                                         period=self.params.pfast)\n",
    "        self.slow_sma = bt.indicators.MovingAverageSimple(self.close_data,\n",
    "                                                         period=self.params.pslow)        \n",
    "        \n",
    "\n",
    "    def next(self):\n",
    "        \n",
    "        # This function will be called automatically after\n",
    "        # a new data point (stock price) is available\n",
    "        # print(\"%s - %s\" % (self.data.datetime.date(0), self.close_data[0]))        \n",
    "        \n",
    "        # we have to check whether we have already opened a long position\n",
    "        if not self.position:\n",
    "            # we can open a long position if needed\n",
    "            if self.fast_sma[0] > self.slow_sma[0] \\\n",
    "                    and self.fast_sma[-1] < self.slow_sma[-1]:\n",
    "                print('BUY')\n",
    "                self.buy()\n",
    "                \n",
    "        else:\n",
    "            # check whether to close the long position\n",
    "            if self.fast_sma[0] < self.slow_sma[0] \\\n",
    "                    and self.fast_sma[-1] > self.slow_sma[-1]:\n",
    "                print('CLOSE')\n",
    "                self.close()"
   ]
  },
  {
   "cell_type": "code",
   "execution_count": 25,
   "metadata": {},
   "outputs": [
    {
     "name": "stdout",
     "output_type": "stream",
     "text": [
      "BUY\n",
      "CLOSE\n",
      "BUY\n",
      "CLOSE\n",
      "BUY\n",
      "CLOSE\n",
      "BUY\n",
      "CLOSE\n",
      "BUY\n",
      "CLOSE\n",
      "BUY\n",
      "CLOSE\n",
      "BUY\n",
      "CLOSE\n",
      "BUY\n",
      "CLOSE\n",
      "BUY\n",
      "CLOSE\n",
      "BUY\n",
      "CLOSE\n",
      "BUY\n",
      "CLOSE\n",
      "BUY\n",
      "CLOSE\n",
      "BUY\n",
      "CLOSE\n",
      "BUY\n",
      "CLOSE\n",
      "BUY\n",
      "CLOSE\n",
      "BUY\n",
      "CLOSE\n",
      "BUY\n",
      "CLOSE\n",
      "BUY\n",
      "CLOSE\n",
      "BUY\n",
      "CLOSE\n",
      "BUY\n",
      "CLOSE\n",
      "BUY\n",
      "CLOSE\n",
      "BUY\n"
     ]
    }
   ],
   "source": [
    "if __name__ == \"__main__\":\n",
    "    \n",
    "    cerebro = bt.Cerebro()\n",
    "    \n",
    "    # add data to the core\n",
    "    stock_data = bt.feeds.YahooFinanceData(dataname='MSFT',\n",
    "                                    fromdate=datetime(2010, 1, 1),\n",
    "                                    todate=datetime(2017, 1, 1))\n",
    "    \n",
    "    # we have to add the data to Cerebro\n",
    "    cerebro.adddata(stock_data)\n",
    "    cerebro.addstrategy(MovingAverageStrategy)\n",
    "    \n",
    "    # run the strategy\n",
    "    cerebro.run()"
   ]
  },
  {
   "cell_type": "code",
   "execution_count": null,
   "metadata": {},
   "outputs": [],
   "source": []
  },
  {
   "cell_type": "code",
   "execution_count": null,
   "metadata": {},
   "outputs": [],
   "source": []
  },
  {
   "cell_type": "code",
   "execution_count": null,
   "metadata": {},
   "outputs": [],
   "source": []
  }
 ],
 "metadata": {
  "kernelspec": {
   "display_name": "Python 3",
   "language": "python",
   "name": "python3"
  },
  "language_info": {
   "codemirror_mode": {
    "name": "ipython",
    "version": 3
   },
   "file_extension": ".py",
   "mimetype": "text/x-python",
   "name": "python",
   "nbconvert_exporter": "python",
   "pygments_lexer": "ipython3",
   "version": "3.8.3"
  }
 },
 "nbformat": 4,
 "nbformat_minor": 4
}

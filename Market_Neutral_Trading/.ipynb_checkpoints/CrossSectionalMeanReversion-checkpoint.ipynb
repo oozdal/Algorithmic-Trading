{
 "cells": [
  {
   "cell_type": "markdown",
   "metadata": {},
   "source": [
    "# Cross Sectional Mean Reversion Strategy"
   ]
  },
  {
   "cell_type": "code",
   "execution_count": null,
   "metadata": {},
   "outputs": [],
   "source": [
    "import backtrader as bt\n",
    "import numpy as np\n",
    "import pandas as pd"
   ]
  },
  {
   "cell_type": "code",
   "execution_count": 2,
   "metadata": {},
   "outputs": [],
   "source": [
    "class CrossSectionalMeanReversion(bt.Strategy):\n",
    "    \n",
    "    def __init__(self):\n",
    "        self.stock_data =  self.datas\n",
    "        \n",
    "    def prenext(self):\n",
    "        self.next()\n",
    "        \n",
    "    def next(self):\n",
    "        \n",
    "        stock_returns = np.zeros(len(stock_data))\n",
    "        \n",
    "        # calculate the last daily returns\n",
    "        for index, stock in enumerate(self.stock_data):\n",
    "            stock_returns[index] = stock.close[0] -  stock.close[-1] / stock.close[-1]\n",
    "            \n",
    "        # average return of the market (SP500)\n",
    "        market_return = np.mean(stock_returns)\n",
    "        # weights\n",
    "        weights = -(stock_returns - market_return)\n",
    "        weights = weights / np.sum(np.abs(weights))\n",
    "        \n",
    "        # we can update pur positions based on w weights\n",
    "        for index, stock in enumerate(self.stock_data):\n",
    "            self.order_target_percent(stock, target=weights[index])"
   ]
  },
  {
   "cell_type": "code",
   "execution_count": null,
   "metadata": {},
   "outputs": [],
   "source": []
  }
 ],
 "metadata": {
  "kernelspec": {
   "display_name": "Python 3",
   "language": "python",
   "name": "python3"
  },
  "language_info": {
   "codemirror_mode": {
    "name": "ipython",
    "version": 3
   },
   "file_extension": ".py",
   "mimetype": "text/x-python",
   "name": "python",
   "nbconvert_exporter": "python",
   "pygments_lexer": "ipython3",
   "version": "3.8.3"
  }
 },
 "nbformat": 4,
 "nbformat_minor": 4
}
